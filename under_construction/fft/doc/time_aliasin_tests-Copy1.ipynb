{
 "cells": [
  {
   "cell_type": "code",
   "execution_count": 1,
   "metadata": {},
   "outputs": [],
   "source": [
    "from scipy import signal\n",
    "import numpy as np\n",
    "from scipy.fftpack import fft, ifft\n",
    "import pandas as pd\n",
    "\n",
    "import matplotlib\n",
    "matplotlib.use('nbagg')\n",
    "from pylab import rcParams\n",
    "rcParams['figure.figsize'] = 9, 4\n",
    "import matplotlib.pyplot as plt\n",
    "\n",
    "%load_ext autoreload\n",
    "%autoreload 2\n",
    "import sys\n",
    "import copy\n",
    "\n",
    "from pyha import Hardware, simulate, sims_close, Complex, resize, hardware_sims_equal\n",
    "from pathlib import Path\n",
    "from data import load_iq\n",
    "\n",
    "def imshow(im):\n",
    "    from skimage.exposure import exposure\n",
    "    p2, p98 = np.percentile(im, (2, 98))\n",
    "    im = exposure.rescale_intensity(im, in_range=(p2, p98))\n",
    "\n",
    "    \n",
    "    plt.imshow(im, interpolation='nearest', aspect='auto', origin='lower')\n",
    "    plt.tight_layout()\n",
    "    plt.show()\n",
    "    \n",
    "    \n",
    "def snr(pure, noisy):\n",
    "    sig_pow = np.mean(np.abs(pure))\n",
    "    error = np.array(pure) - np.array(noisy)\n",
    "    err_pow = np.mean(np.abs(error))\n",
    "    \n",
    "    snr_db = 20*np.log10(sig_pow/err_pow)\n",
    "    return snr_db\n"
   ]
  },
  {
   "cell_type": "code",
   "execution_count": 32,
   "metadata": {},
   "outputs": [],
   "source": [
    "fft_points = 8\n",
    "overlap = 2"
   ]
  },
  {
   "cell_type": "code",
   "execution_count": 33,
   "metadata": {},
   "outputs": [
    {
     "name": "stdout",
     "output_type": "stream",
     "text": [
      "[ 0  1  2  3  4  5  6  7  8  9 10 11 12 13 14 15 16 17 18 19 20 21 22 23\n",
      " 24 25 26 27 28 29 30 31 32 33 34 35 36 37 38 39 40 41 42 43 44 45 46 47\n",
      " 48 49 50 51 52 53 54 55 56 57 58 59 60 61 62 63] (64,)\n"
     ]
    }
   ],
   "source": [
    "orig_inp = np.array(list(range(64)))\n",
    "print(orig_inp, orig_inp.shape)"
   ]
  },
  {
   "cell_type": "code",
   "execution_count": 34,
   "metadata": {},
   "outputs": [
    {
     "name": "stdout",
     "output_type": "stream",
     "text": [
      "[[ 0  1  2  3  4  5  6  7]\n",
      " [ 4  5  6  7  8  9 10 11]\n",
      " [ 8  9 10 11 12 13 14 15]\n",
      " [12 13 14 15 16 17 18 19]\n",
      " [16 17 18 19 20 21 22 23]\n",
      " [20 21 22 23 24 25 26 27]\n",
      " [24 25 26 27 28 29 30 31]\n",
      " [28 29 30 31 32 33 34 35]\n",
      " [32 33 34 35 36 37 38 39]\n",
      " [36 37 38 39 40 41 42 43]\n",
      " [40 41 42 43 44 45 46 47]\n",
      " [44 45 46 47 48 49 50 51]\n",
      " [48 49 50 51 52 53 54 55]\n",
      " [52 53 54 55 56 57 58 59]]\n"
     ]
    }
   ],
   "source": [
    "step = fft_points // overlap\n",
    "chunks = []\n",
    "for i in range(0, len(orig_inp) - fft_points, step):\n",
    "    new = np.array(orig_inp[i: i+fft_points])\n",
    "    chunks.append(new)\n",
    "chunks = np.array(chunks)\n",
    "print(chunks)"
   ]
  },
  {
   "cell_type": "code",
   "execution_count": 35,
   "metadata": {},
   "outputs": [
    {
     "data": {
      "text/plain": [
       "(14, 8)"
      ]
     },
     "execution_count": 35,
     "metadata": {},
     "output_type": "execute_result"
    }
   ],
   "source": [
    "chunks.shape"
   ]
  },
  {
   "cell_type": "code",
   "execution_count": 36,
   "metadata": {},
   "outputs": [
    {
     "name": "stdout",
     "output_type": "stream",
     "text": [
      "[[[ 0  1  2  3  4  5  6  7]\n",
      "  [ 4  5  6  7  8  9 10 11]]\n",
      "\n",
      " [[ 8  9 10 11 12 13 14 15]\n",
      "  [12 13 14 15 16 17 18 19]]\n",
      "\n",
      " [[16 17 18 19 20 21 22 23]\n",
      "  [20 21 22 23 24 25 26 27]]\n",
      "\n",
      " [[24 25 26 27 28 29 30 31]\n",
      "  [28 29 30 31 32 33 34 35]]\n",
      "\n",
      " [[32 33 34 35 36 37 38 39]\n",
      "  [36 37 38 39 40 41 42 43]]\n",
      "\n",
      " [[40 41 42 43 44 45 46 47]\n",
      "  [44 45 46 47 48 49 50 51]]\n",
      "\n",
      " [[48 49 50 51 52 53 54 55]\n",
      "  [52 53 54 55 56 57 58 59]]]\n",
      "(7, 2, 8)\n"
     ]
    }
   ],
   "source": [
    "chunks = np.resize(chunks, (len(chunks)//overlap, overlap, 8))\n",
    "print(chunks)\n",
    "print(chunks.shape)"
   ]
  },
  {
   "cell_type": "code",
   "execution_count": 37,
   "metadata": {},
   "outputs": [
    {
     "name": "stdout",
     "output_type": "stream",
     "text": [
      "[[ 2.  3.  4.  5.  6.  7.  8.  9.]\n",
      " [10. 11. 12. 13. 14. 15. 16. 17.]\n",
      " [18. 19. 20. 21. 22. 23. 24. 25.]\n",
      " [26. 27. 28. 29. 30. 31. 32. 33.]\n",
      " [34. 35. 36. 37. 38. 39. 40. 41.]\n",
      " [42. 43. 44. 45. 46. 47. 48. 49.]\n",
      " [50. 51. 52. 53. 54. 55. 56. 57.]]\n",
      "(7, 8)\n"
     ]
    }
   ],
   "source": [
    "sums = np.mean(chunks, axis=1)\n",
    "print(sums)\n",
    "print(sums.shape)"
   ]
  },
  {
   "cell_type": "markdown",
   "metadata": {},
   "source": [
    "# Config"
   ]
  },
  {
   "cell_type": "code",
   "execution_count": null,
   "metadata": {},
   "outputs": [],
   "source": [
    "fft_points = 1024 * 8\n",
    "freq_axis_avg_decimation = 64\n",
    "sims = ['MODEL', 'PYHA']"
   ]
  },
  {
   "cell_type": "markdown",
   "metadata": {},
   "source": [
    "# Prepare input"
   ]
  },
  {
   "cell_type": "code",
   "execution_count": null,
   "metadata": {},
   "outputs": [],
   "source": [
    "# orig_inp = load_iq('/home/gaspar/git/pyhacores/data/f2404_fs16.896_one_hop.iq')\n",
    "orig_inp = load_iq('/home/gaspar/git/m037_tests/data/Phantom 3 & 4=-90_20180104123014261769/1515061814.9318_qdetector_fs=20000000.0_bw=20000000.0_fc=2420000000.0_d=0.raw')\n",
    "# orig_inp = orig_inp.imag\n",
    "# orig_inp = signal.decimate(orig_inp, 8)\n",
    "# orig_inp *= 0.5\n",
    "\n",
    "# n = np.random.uniform(-1, 1, len(orig_inp)) + np.random.uniform(-1, 1, len(orig_inp))*1j\n",
    "# n *= 0.7\n",
    "# orig_inp += n\n",
    "\n",
    "# make sure input divides with fft_points\n",
    "orig_inp = np.array(orig_inp[:int(len(orig_inp) // fft_points) * fft_points])"
   ]
  },
  {
   "cell_type": "code",
   "execution_count": null,
   "metadata": {},
   "outputs": [],
   "source": [
    "# base = 0.5 / fft_points / 2\n",
    "base = 1.0 / fft_points / 2\n",
    "\n",
    "print(base, 0.0001)\n",
    "overlap = 64\n",
    "# taps = signal.firwin2(fft_points * overlap, [0, base, base, 1.0], [1, 1, 0, 0])\n",
    "taps = signal.remez(fft_points * overlap, [0, base, base+0.000000001, 0.5], [1, 0], maxiter=20)\n",
    "\n",
    "# taps /= taps.max()\n",
    "w, h = signal.freqz(taps)\n",
    "\n",
    "plt.plot(w, 20 * np.log10(abs(h)), 'b')\n",
    "plt.ylabel('Amplitude [dB]', color='b')\n",
    "plt.xlabel('Frequency [rad/sample]')\n",
    "plt.show()\n",
    "\n",
    "plt.plot(taps)\n",
    "plt.show()\n",
    "print(taps[0])"
   ]
  },
  {
   "cell_type": "code",
   "execution_count": null,
   "metadata": {},
   "outputs": [],
   "source": [
    "f = np.fft.fft(taps)"
   ]
  },
  {
   "cell_type": "code",
   "execution_count": null,
   "metadata": {},
   "outputs": [],
   "source": [
    "a = 20 * np.log10(abs(f))\n",
    "a = np.fft.fftshift(a)\n",
    "plt.plot(a)\n",
    "plt.show()"
   ]
  },
  {
   "cell_type": "code",
   "execution_count": null,
   "metadata": {},
   "outputs": [],
   "source": [
    "import scipy.signal\n",
    "inp = [0.0 + 0.0j] * fft_points * overlap\n",
    "inp[0] = 1.0 + 1.0j\n",
    "\n",
    "fir = scipy.signal.lfilter(taps, [1.0], inp)\n"
   ]
  },
  {
   "cell_type": "code",
   "execution_count": null,
   "metadata": {},
   "outputs": [],
   "source": [
    "plt.magnitude_spectrum(fir, window=matplotlib.mlab.window_none, scale='dB')\n",
    "\n",
    "plt.ylabel('Amplitude [dB]')\n",
    "plt.xlabel('Frequency')\n",
    "plt.grid()\n",
    "plt.show()"
   ]
  },
  {
   "cell_type": "markdown",
   "metadata": {},
   "source": [
    "# Golden output"
   ]
  },
  {
   "cell_type": "code",
   "execution_count": null,
   "metadata": {},
   "outputs": [],
   "source": [
    "_, _, spectro_out = signal.spectrogram(orig_inp, 1, nperseg=fft_points, return_onesided=False, detrend=False,\n",
    "                               noverlap=fft_points * 0.5, window='hann')\n",
    "\n",
    "# fftshift\n",
    "spectro_out = np.roll(spectro_out, fft_points//2, axis=0)\n",
    "\n",
    "# avg decimation\n",
    "x = np.split(spectro_out, len(spectro_out) // freq_axis_avg_decimation)\n",
    "golden_output = np.average(x, axis=1)\n",
    "\n",
    "imshow(golden_output)"
   ]
  },
  {
   "cell_type": "markdown",
   "metadata": {},
   "source": [
    "# MANUAL"
   ]
  },
  {
   "cell_type": "code",
   "execution_count": null,
   "metadata": {},
   "outputs": [],
   "source": [
    "# divide to chunks of size 'nfft'\n",
    "chunks = np.split(orig_inp, len(orig_inp) // fft_points)\n",
    "\n",
    "# apply window\n",
    "windowed = chunks * np.hanning(fft_points)\n",
    "\n",
    "# take fft, this also fixes ordering\n",
    "ffts = np.fft.fft(windowed).T\n",
    "\n",
    "# take magnitude\n",
    "mag = np.conjugate(ffts) * ffts\n",
    "mag = mag.real\n",
    "\n",
    "# # fftshift\n",
    "spectro_out = np.roll(mag, fft_points//2, axis=0)\n",
    "\n",
    "# avg decimation\n",
    "x = np.split(spectro_out, len(spectro_out) // freq_axis_avg_decimation)\n",
    "golden_output = np.average(x, axis=1)\n",
    "\n",
    "imshow(golden_output)\n",
    "# imshow(mag)"
   ]
  },
  {
   "cell_type": "markdown",
   "metadata": {},
   "source": [
    "# MANUAL PRESUM"
   ]
  },
  {
   "cell_type": "code",
   "execution_count": null,
   "metadata": {},
   "outputs": [],
   "source": [
    "# divide to chunks of size 'nfft'\n",
    "chunks = np.array(np.split(orig_inp, len(orig_inp) // fft_points))\n",
    "\n",
    "# apply window\n",
    "# windowed = chunks * np.hanning(fft_points)\n",
    "windowed = chunks * taps\n",
    "# windowed = chunks\n",
    "\n",
    "print(windowed.shape)\n",
    "# presum\n",
    "\n",
    "presum = []\n",
    "for row in windowed:\n",
    "#     print(row.shape)\n",
    "    x = np.array(np.split(row, freq_axis_avg_decimation))\n",
    "#     print(x.shape)\n",
    "    golden_output = np.sum(x, axis=0)\n",
    "#     print(golden_output.shape)\n",
    "    presum.append(golden_output)\n",
    "    # print(golden_output)\n",
    "#     windowed = golden_output\n",
    "presum = np.array(presum)\n",
    "# take fft, this also fixes ordering\n",
    "ffts = np.fft.fft(presum).T\n",
    "\n",
    "# take magnitude\n",
    "mag = np.conjugate(ffts) * ffts\n",
    "mag = mag.real\n",
    "\n",
    "# fftshift\n",
    "spectro_out = np.roll(mag, fft_points//2// freq_axis_avg_decimation, axis=0)\n",
    "\n",
    "# # avg decimation\n",
    "# x = np.split(spectro_out, len(spectro_out) // freq_axis_avg_decimation)\n",
    "# golden_output = np.average(x, axis=1)\n",
    "\n",
    "imshow(spectro_out)"
   ]
  },
  {
   "cell_type": "code",
   "execution_count": null,
   "metadata": {},
   "outputs": [],
   "source": [
    "# divide to chunks of size 'nfft'\n",
    "chunks = orig_inp[10*fft_points: 11*fft_points]\n",
    "\n",
    "# apply window\n",
    "windowed = chunks * np.hanning(fft_points)\n",
    "# windowed = chunks\n",
    "# print(windowed.shape)\n",
    "\n",
    "# take fft, this also fixes ordering\n",
    "ffts = np.fft.fft(windowed)\n",
    "\n",
    "# take magnitude\n",
    "mag = np.conjugate(ffts) * ffts\n",
    "mag = mag.real\n",
    "\n",
    "# # fftshift\n",
    "spectro_out = np.roll(mag, fft_points//2, axis=0)\n",
    "\n",
    "# avg decimation\n",
    "# golden_output = spectro_out\n",
    "x = np.split(spectro_out, len(spectro_out) // freq_axis_avg_decimation)\n",
    "golden_output = np.average(x, axis=1)\n",
    "\n",
    "plt.plot(golden_output)\n",
    "plt.show()\n",
    "# imshow(mag)"
   ]
  },
  {
   "cell_type": "code",
   "execution_count": null,
   "metadata": {},
   "outputs": [],
   "source": [
    "0.5 / 256"
   ]
  },
  {
   "cell_type": "code",
   "execution_count": null,
   "metadata": {},
   "outputs": [],
   "source": [
    "# divide to chunks of size 'nfft'\n",
    "chunks = orig_inp[10*fft_points: 11*fft_points]\n",
    "\n",
    "# apply window\n",
    "# windowed = chunks * np.hanning(fft_points)\n",
    "plt.plot(taps)\n",
    "plt.show()\n",
    "windowed = chunks * taps\n",
    "# windowed = np.array(chunks)\n",
    "\n",
    "\n",
    "# presum\n",
    "# x = np.array(np.split(windowed, 2))\n",
    "# golden_output = np.average(x, axis=0)\n",
    "# windowed = golden_output\n",
    "\n",
    "windowed = windowed[:fft_points//2] + windowed[fft_points//2:]\n",
    "\n",
    "# take fft, this also fixes ordering\n",
    "ffts = np.fft.fft(windowed)\n",
    "\n",
    "# take magnitude\n",
    "mag = np.conjugate(ffts) * ffts\n",
    "mag = mag.real\n",
    "\n",
    "# fftshift\n",
    "spectro_out = np.roll(mag, fft_points//2//2, axis=0)\n",
    "\n",
    "# # avg decimation\n",
    "# x = np.split(spectro_out, len(spectro_out) // freq_axis_avg_decimation)\n",
    "# golden_output = np.average(x, axis=1)\n",
    "\n",
    "plt.plot(spectro_out)\n",
    "plt.show()\n",
    "\n",
    "# imshow(mag)"
   ]
  },
  {
   "cell_type": "code",
   "execution_count": null,
   "metadata": {},
   "outputs": [],
   "source": [
    "l = [0.0] * 10 + [1.0] * 10 + [0.0] * 10\n",
    "plt.plot(l)\n",
    "plt.show()\n",
    "\n",
    "iff = np.fft.ifft(l)\n",
    "\n",
    "plt.plot(abs(iff))\n",
    "plt.show()"
   ]
  },
  {
   "cell_type": "code",
   "execution_count": null,
   "metadata": {},
   "outputs": [],
   "source": [
    "MAKSA ARVE!!!"
   ]
  },
  {
   "cell_type": "markdown",
   "metadata": {},
   "source": [
    "# Packager"
   ]
  },
  {
   "cell_type": "code",
   "execution_count": null,
   "metadata": {},
   "outputs": [],
   "source": [
    "dut = Packager(fft_points)\n",
    "sims = simulate(dut, orig_inp, output_callback=DataWithIndex._pyha_unpack, simulations=sims)\n",
    "assert sims_close(sims)"
   ]
  },
  {
   "cell_type": "code",
   "execution_count": null,
   "metadata": {},
   "outputs": [],
   "source": [
    "snrs = snr(sims['MODEL'], sims['PYHA'])\n",
    "print(f'Block AVG SNR: {snrs}')"
   ]
  },
  {
   "cell_type": "markdown",
   "metadata": {},
   "source": [
    "# Apply windowing"
   ]
  },
  {
   "cell_type": "code",
   "execution_count": null,
   "metadata": {},
   "outputs": [],
   "source": [
    "dut = Windower(fft_points)"
   ]
  },
  {
   "cell_type": "code",
   "execution_count": null,
   "metadata": {},
   "outputs": [],
   "source": [
    "inp = np.array(sims['PYHA'])\n",
    "sims = simulate(dut, inp, simulations=sims, output_callback=DataWithIndex._pyha_unpack, input_callback=DataWithIndex._pyha_pack)\n",
    "assert hardware_sims_equal(sims)"
   ]
  },
  {
   "cell_type": "code",
   "execution_count": null,
   "metadata": {},
   "outputs": [],
   "source": [
    "plt.plot(np.hstack(sims['MODEL']).real, label='MODEL')\n",
    "plt.plot(np.hstack(sims['PYHA']).real, label='HARDWARE')\n",
    "plt.legend()\n",
    "plt.show()"
   ]
  },
  {
   "cell_type": "code",
   "execution_count": null,
   "metadata": {},
   "outputs": [],
   "source": [
    "snrs = snr(sims['MODEL'], sims['PYHA'])\n",
    "print(f'Block AVG SNR: {snrs}')"
   ]
  },
  {
   "cell_type": "markdown",
   "metadata": {},
   "source": [
    "# FFT"
   ]
  },
  {
   "cell_type": "code",
   "execution_count": null,
   "metadata": {},
   "outputs": [],
   "source": [
    "inp = np.array(sims['PYHA']) # input is the output of last block\n",
    "dut = R2SDF(fft_points)\n",
    "sims = simulate(dut, inp, simulations=sims, output_callback=DataWithIndex._pyha_unpack, input_callback=DataWithIndex._pyha_pack)\n",
    "assert hardware_sims_equal(sims)"
   ]
  },
  {
   "cell_type": "code",
   "execution_count": null,
   "metadata": {},
   "outputs": [],
   "source": [
    "plt.plot(np.hstack(sims['MODEL']).real, label='MODEL')\n",
    "plt.plot(np.hstack(sims['PYHA']).real, label='HARDWARE')\n",
    "plt.legend()\n",
    "plt.show()"
   ]
  },
  {
   "cell_type": "code",
   "execution_count": null,
   "metadata": {},
   "outputs": [],
   "source": [
    "snrs = snr(sims['MODEL'], sims['PYHA'])\n",
    "print(f'Block AVG SNR: {snrs}')"
   ]
  },
  {
   "cell_type": "markdown",
   "metadata": {},
   "source": [
    "# Bit-reversal and fftshift"
   ]
  },
  {
   "cell_type": "code",
   "execution_count": null,
   "metadata": {},
   "outputs": [],
   "source": [
    "inp = np.array(sims['PYHA']) # input is the output of last block\n",
    "dut = BitReversal(fft_points)\n",
    "sims = simulate(dut, inp, simulations=sims, output_callback=DataWithIndex._pyha_unpack, input_callback=DataWithIndex._pyha_pack)\n",
    "assert hardware_sims_equal(sims)\n"
   ]
  },
  {
   "cell_type": "code",
   "execution_count": null,
   "metadata": {},
   "outputs": [],
   "source": [
    "plt.plot(np.hstack(sims['MODEL']).real, label='MODEL')\n",
    "plt.plot(np.hstack(sims['PYHA']).real, label='HARDWARE')\n",
    "plt.legend()\n",
    "plt.show()"
   ]
  },
  {
   "cell_type": "code",
   "execution_count": null,
   "metadata": {},
   "outputs": [],
   "source": [
    "snrs = snr(sims['MODEL'], sims['PYHA'])\n",
    "print(f'Block AVG SNR: {snrs}')"
   ]
  },
  {
   "cell_type": "markdown",
   "metadata": {},
   "source": [
    "# Magnitude"
   ]
  },
  {
   "cell_type": "code",
   "execution_count": null,
   "metadata": {},
   "outputs": [],
   "source": [
    "inp = np.array(sims['PYHA']) # input is the output of last block\n",
    "dut = ConjMult()\n",
    "sims = simulate(dut, inp, simulations=sims, output_callback=DataWithIndex._pyha_unpack, input_callback=DataWithIndex._pyha_pack)\n",
    "assert hardware_sims_equal(sims)"
   ]
  },
  {
   "cell_type": "code",
   "execution_count": null,
   "metadata": {},
   "outputs": [],
   "source": [
    "plt.plot(np.hstack(sims['MODEL']).real, label='MODEL')\n",
    "plt.plot(np.hstack(sims['PYHA']).real, label='HARDWARE')\n",
    "plt.legend()\n",
    "plt.show()"
   ]
  },
  {
   "cell_type": "code",
   "execution_count": null,
   "metadata": {},
   "outputs": [],
   "source": [
    "snrs = snr(sims['MODEL'], sims['PYHA'])\n",
    "print(f'Block AVG SNR: {snrs}')"
   ]
  },
  {
   "cell_type": "markdown",
   "metadata": {},
   "source": [
    "# Decimation AVG"
   ]
  },
  {
   "cell_type": "code",
   "execution_count": null,
   "metadata": {},
   "outputs": [],
   "source": [
    "inp = np.array(sims['PYHA']) # input is the output of last block\n",
    "dut = AvgDecimate(freq_axis_avg_decimation)\n",
    "sims = simulate(dut, inp, simulations=sims, output_callback=DataWithIndex._pyha_unpack, input_callback=DataWithIndex._pyha_pack)\n",
    "assert hardware_sims_equal(sims)"
   ]
  },
  {
   "cell_type": "code",
   "execution_count": null,
   "metadata": {},
   "outputs": [],
   "source": [
    "plt.plot(np.hstack(sims['MODEL']).real, label='MODEL')\n",
    "plt.plot(np.hstack(sims['PYHA']).real, label='HARDWARE')\n",
    "plt.legend()\n",
    "plt.show()"
   ]
  },
  {
   "cell_type": "code",
   "execution_count": null,
   "metadata": {},
   "outputs": [],
   "source": [
    "snrs = snr(sims['MODEL'], sims['PYHA'])\n",
    "print(f'Block AVG SNR: {snrs}')"
   ]
  },
  {
   "cell_type": "markdown",
   "metadata": {},
   "source": [
    "# Merged object"
   ]
  },
  {
   "cell_type": "code",
   "execution_count": null,
   "metadata": {},
   "outputs": [],
   "source": [
    "inp = orig_inp\n",
    "dut = Spectrogram(fft_points, decimate_by=freq_axis_avg_decimation)\n",
    "full_sims = simulate(dut, inp, simulations=sims, output_callback=DataWithIndex._pyha_unpack)\n",
    "assert hardware_sims_equal(sims)"
   ]
  },
  {
   "cell_type": "code",
   "execution_count": null,
   "metadata": {},
   "outputs": [],
   "source": [
    "x = np.array(full_sims['PYHA']).T\n",
    "imshow(x)"
   ]
  },
  {
   "cell_type": "markdown",
   "metadata": {},
   "source": [
    "# Final evaluation"
   ]
  },
  {
   "cell_type": "code",
   "execution_count": null,
   "metadata": {},
   "outputs": [],
   "source": [
    "x = np.array(sims['PYHA']).T\n",
    "imshow(x)"
   ]
  },
  {
   "cell_type": "code",
   "execution_count": null,
   "metadata": {},
   "outputs": [],
   "source": [
    "imshow(golden_output)"
   ]
  },
  {
   "cell_type": "code",
   "execution_count": null,
   "metadata": {},
   "outputs": [],
   "source": [
    "flat_spectro = golden_output.flatten()\n",
    "flat_spectro /= golden_output.max()\n",
    "\n",
    "flat_pyha = x.flatten()\n",
    "flat_pyha /= flat_pyha.max()\n",
    "\n",
    "plt.plot(flat_spectro, label='MODEL_PYHA')\n",
    "plt.plot(flat_pyha, label='HARDWARE')\n",
    "plt.legend()\n",
    "plt.show()\n",
    "\n",
    "plt.plot(flat_pyha - flat_spectro, label='MODEL_PYHA')\n",
    "plt.legend()\n",
    "plt.show()\n",
    "\n",
    "snrs = snr(flat_spectro, flat_pyha)\n",
    "print(f'Block AVG SNR: {snrs}')\n"
   ]
  },
  {
   "cell_type": "code",
   "execution_count": null,
   "metadata": {},
   "outputs": [],
   "source": []
  }
 ],
 "metadata": {
  "kernelspec": {
   "display_name": "Python 3",
   "language": "python",
   "name": "python3"
  },
  "language_info": {
   "codemirror_mode": {
    "name": "ipython",
    "version": 3
   },
   "file_extension": ".py",
   "mimetype": "text/x-python",
   "name": "python",
   "nbconvert_exporter": "python",
   "pygments_lexer": "ipython3",
   "version": "3.6.4"
  }
 },
 "nbformat": 4,
 "nbformat_minor": 1
}
