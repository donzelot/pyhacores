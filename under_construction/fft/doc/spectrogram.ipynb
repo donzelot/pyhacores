{
 "cells": [
  {
   "cell_type": "code",
   "execution_count": 1,
   "metadata": {},
   "outputs": [],
   "source": [
    "from scipy import signal\n",
    "import numpy as np\n",
    "import matplotlib.pyplot as plt\n",
    "from scipy.fftpack import fft, ifft\n",
    "import pandas as pd\n",
    "%load_ext autoreload\n",
    "%autoreload 2\n",
    "import sys\n",
    "import copy\n",
    "\n",
    "from pyha import Hardware, simulate, sims_close, Complex, resize, hardware_sims_equal\n",
    "from pathlib import Path\n",
    "from data import load_iq\n",
    "sys.path.insert(0,'/home/gaspar/git/pyhacores/under_construction/fft/')\n",
    "from under_construction.fft.bit_reversal_fftshift import BitReversal\n",
    "from under_construction.fft.conjmult import ConjMult\n",
    "from under_construction.fft.fft_core import R2SDF\n",
    "from under_construction.fft.windower import Windower\n",
    "from under_construction.fft.avg_decimate import AvgDecimate\n",
    "\n",
    "def imshow(im):\n",
    "    from skimage.exposure import exposure\n",
    "    p2, p98 = np.percentile(im, (2, 98))\n",
    "    im = exposure.rescale_intensity(im, in_range=(p2, p98))\n",
    "\n",
    "    \n",
    "    plt.imshow(im, interpolation='nearest', aspect='auto', origin='lower')\n",
    "    plt.tight_layout()\n",
    "    plt.show()\n",
    "    \n",
    "    \n",
    "def snr(pure, noisy):\n",
    "    sig_pow = np.mean(np.abs(pure))\n",
    "    error = np.array(pure) - np.array(noisy)\n",
    "    err_pow = np.mean(np.abs(error))\n",
    "    \n",
    "    snr_db = 20*np.log10(sig_pow/err_pow)\n",
    "    return snr_db\n"
   ]
  },
  {
   "cell_type": "markdown",
   "metadata": {},
   "source": [
    "# Config"
   ]
  },
  {
   "cell_type": "code",
   "execution_count": 2,
   "metadata": {},
   "outputs": [],
   "source": [
    "fft_points = 256\n",
    "freq_axis_avg_decimation = 2\n",
    "extra_sims = ['RTL']"
   ]
  },
  {
   "cell_type": "markdown",
   "metadata": {},
   "source": [
    "# Prepare input"
   ]
  },
  {
   "cell_type": "code",
   "execution_count": 3,
   "metadata": {},
   "outputs": [
    {
     "name": "stdout",
     "output_type": "stream",
     "text": [
      "6736\n",
      "(0.4255082973645968-0.06755141770138139j)\n"
     ]
    }
   ],
   "source": [
    "inp = load_iq('/home/gaspar/git/pyhacores/data/f2404_fs16.896_one_hop.iq')\n",
    "inp = signal.decimate(inp, 8)\n",
    "inp *= 0.5\n",
    "print(len(inp))\n",
    "print(inp.max())\n",
    "\n",
    "# make sure input divides with fft_points\n",
    "inp = np.array(inp[:int(len(inp) // fft_points) * fft_points])"
   ]
  },
  {
   "cell_type": "markdown",
   "metadata": {},
   "source": [
    "# Golden output"
   ]
  },
  {
   "cell_type": "code",
   "execution_count": 4,
   "metadata": {},
   "outputs": [
    {
     "data": {
      "image/png": "[encoded data removed]",
      "text/plain": [
       "<matplotlib.figure.Figure at 0x7f1e29369198>"
      ]
     },
     "metadata": {},
     "output_type": "display_data"
    }
   ],
   "source": [
    "_, _, spectro_out = signal.spectrogram(inp, 1, nperseg=fft_points, return_onesided=False, detrend=False,\n",
    "                               noverlap=0, window='hann')\n",
    "\n",
    "# fftshift\n",
    "spectro_out = np.roll(spectro_out, fft_points//2, axis=0)\n",
    "\n",
    "# avg decimation\n",
    "x = np.split(spectro_out, len(spectro_out) // freq_axis_avg_decimation)\n",
    "golden_output = np.average(x, axis=1)\n",
    "\n",
    "imshow(golden_output)"
   ]
  },
  {
   "cell_type": "markdown",
   "metadata": {},
   "source": [
    "# Apply windowing"
   ]
  },
  {
   "cell_type": "code",
   "execution_count": 5,
   "metadata": {},
   "outputs": [],
   "source": [
    "dut = Windower(fft_points)"
   ]
  },
  {
   "cell_type": "code",
   "execution_count": 6,
   "metadata": {},
   "outputs": [
    {
     "name": "stderr",
     "output_type": "stream",
     "text": [
      "INFO:sim:Running \"MODEL\" simulation...\n",
      "INFO:sim:OK!\n",
      "INFO:sim:Converting model to hardware types ...\n",
      "INFO:sim:Converting simulation inputs to hardware types...\n",
      "INFO:sim:Running \"PYHA\" simulation...\n",
      "INFO:sim:OK!\n",
      "INFO:sim:Running \"RTL\" simulation...\n",
      "INFO:sim:Running COCOTB & GHDL simulation....\n",
      "INFO:sim:OK!\n",
      "INFO:sim:Simulations completed!\n",
      "INFO:sim:sims_close(rtol=1e-16, atol=1e-16)\n",
      "INFO:sim:Using \"PYHA\" as golden output\n",
      "INFO:sim:PYHA OK!\n",
      "INFO:sim:RTL OK!\n"
     ]
    }
   ],
   "source": [
    "sims = simulate(dut, inp, simulations=['MODEL', 'PYHA'] + extra_sims)\n",
    "assert hardware_sims_equal(sims)"
   ]
  },
  {
   "cell_type": "code",
   "execution_count": 7,
   "metadata": {},
   "outputs": [
    {
     "name": "stderr",
     "output_type": "stream",
     "text": [
      "/home/gaspar/miniconda3/lib/python3.6/site-packages/numpy/core/numeric.py:492: ComplexWarning: Casting complex values to real discards the imaginary part\n",
      "  return array(a, dtype, copy=False, order=order)\n"
     ]
    },
    {
     "data": {
      "image/png": "[encoded data removed]",
      "text/plain": [
       "<matplotlib.figure.Figure at 0x7f1e292ef358>"
      ]
     },
     "metadata": {},
     "output_type": "display_data"
    }
   ],
   "source": [
    "plt.plot(sims['MODEL'], label='MODEL')\n",
    "plt.plot(sims['PYHA'], label='HARDWARE')\n",
    "plt.legend()\n",
    "plt.show()"
   ]
  },
  {
   "cell_type": "code",
   "execution_count": 8,
   "metadata": {},
   "outputs": [
    {
     "name": "stdout",
     "output_type": "stream",
     "text": [
      "Block AVG SNR: 83.93815096129913\n"
     ]
    }
   ],
   "source": [
    "snrs = snr(sims['MODEL'], sims['PYHA'])\n",
    "print(f'Block AVG SNR: {snrs}')"
   ]
  },
  {
   "cell_type": "markdown",
   "metadata": {},
   "source": [
    "# FFT"
   ]
  },
  {
   "cell_type": "code",
   "execution_count": 9,
   "metadata": {},
   "outputs": [
    {
     "name": "stderr",
     "output_type": "stream",
     "text": [
      "INFO:sim:Running \"MODEL\" simulation...\n",
      "INFO:sim:OK!\n",
      "INFO:sim:Converting model to hardware types ...\n",
      "INFO:sim:Converting simulation inputs to hardware types...\n",
      "INFO:sim:Running \"PYHA\" simulation...\n",
      "INFO:sim:OK!\n",
      "INFO:sim:Running \"RTL\" simulation...\n",
      "INFO:sim:Running COCOTB & GHDL simulation....\n",
      "INFO:sim:OK!\n",
      "INFO:sim:Simulations completed!\n",
      "INFO:sim:sims_close(rtol=1e-16, atol=1e-16)\n",
      "INFO:sim:Using \"PYHA\" as golden output\n",
      "INFO:sim:PYHA OK!\n",
      "INFO:sim:RTL OK!\n"
     ]
    }
   ],
   "source": [
    "inp = np.array(sims['PYHA']) # input is the output of last block\n",
    "dut = R2SDF(fft_points)\n",
    "sims = simulate(dut, inp, simulations=['MODEL', 'PYHA'] + extra_sims)\n",
    "assert hardware_sims_equal(sims)\n",
    "\n",
    "# fix fft gain\n",
    "sims['MODEL'] = np.array(sims['MODEL']) * dut.GAIN_CORRECTION"
   ]
  },
  {
   "cell_type": "code",
   "execution_count": 10,
   "metadata": {},
   "outputs": [
    {
     "name": "stderr",
     "output_type": "stream",
     "text": [
      "/home/gaspar/miniconda3/lib/python3.6/site-packages/numpy/core/numeric.py:492: ComplexWarning: Casting complex values to real discards the imaginary part\n",
      "  return array(a, dtype, copy=False, order=order)\n"
     ]
    },
    {
     "data": {
      "image/png": "[encoded data removed]",
      "text/plain": [
       "<matplotlib.figure.Figure at 0x7f1e60b6f160>"
      ]
     },
     "metadata": {},
     "output_type": "display_data"
    }
   ],
   "source": [
    "plt.plot(sims['MODEL'], label='MODEL')\n",
    "plt.plot(sims['PYHA'], label='HARDWARE')\n",
    "plt.legend()\n",
    "plt.show()"
   ]
  },
  {
   "cell_type": "code",
   "execution_count": 11,
   "metadata": {},
   "outputs": [
    {
     "name": "stdout",
     "output_type": "stream",
     "text": [
      "Block AVG SNR: 65.638371026732\n"
     ]
    }
   ],
   "source": [
    "snrs = snr(sims['MODEL'], sims['PYHA'])\n",
    "print(f'Block AVG SNR: {snrs}')"
   ]
  },
  {
   "cell_type": "markdown",
   "metadata": {},
   "source": [
    "# Bit-reversal and fftshift"
   ]
  },
  {
   "cell_type": "code",
   "execution_count": 12,
   "metadata": {},
   "outputs": [
    {
     "name": "stderr",
     "output_type": "stream",
     "text": [
      "INFO:sim:Running \"MODEL\" simulation...\n",
      "INFO:sim:OK!\n",
      "INFO:sim:Converting model to hardware types ...\n",
      "INFO:sim:Converting simulation inputs to hardware types...\n",
      "INFO:sim:Running \"PYHA\" simulation...\n",
      "INFO:sim:OK!\n",
      "INFO:sim:Running \"RTL\" simulation...\n",
      "INFO:sim:Running COCOTB & GHDL simulation....\n",
      "INFO:sim:OK!\n",
      "INFO:sim:Simulations completed!\n",
      "INFO:sim:sims_close(rtol=1e-16, atol=1e-16)\n",
      "INFO:sim:Using \"PYHA\" as golden output\n",
      "INFO:sim:PYHA OK!\n",
      "INFO:sim:RTL OK!\n"
     ]
    }
   ],
   "source": [
    "inp = np.array(sims['PYHA']) # input is the output of last block\n",
    "dut = BitReversal(fft_points)\n",
    "sims = simulate(dut, inp, simulations=['MODEL', 'PYHA'] + extra_sims)\n",
    "assert hardware_sims_equal(sims)\n"
   ]
  },
  {
   "cell_type": "code",
   "execution_count": 13,
   "metadata": {},
   "outputs": [
    {
     "name": "stderr",
     "output_type": "stream",
     "text": [
      "/home/gaspar/miniconda3/lib/python3.6/site-packages/numpy/core/numeric.py:492: ComplexWarning: Casting complex values to real discards the imaginary part\n",
      "  return array(a, dtype, copy=False, order=order)\n"
     ]
    },
    {
     "data": {
      "image/png": "[encoded data removed]",
      "text/plain": [
       "<matplotlib.figure.Figure at 0x7f1e2894fc50>"
      ]
     },
     "metadata": {},
     "output_type": "display_data"
    },
    {
     "data": {
      "image/png": "[encoded data removed]",
      "text/plain": [
       "<matplotlib.figure.Figure at 0x7f1e274cc908>"
      ]
     },
     "metadata": {},
     "output_type": "display_data"
    }
   ],
   "source": [
    "plt.plot(sims['MODEL'], label='MODEL')\n",
    "plt.plot(sims['PYHA'], label='HARDWARE')\n",
    "plt.legend()\n",
    "plt.show()"
   ]
  },
  {
   "cell_type": "code",
   "execution_count": 14,
   "metadata": {},
   "outputs": [
    {
     "name": "stdout",
     "output_type": "stream",
     "text": [
      "Block AVG SNR: inf\n"
     ]
    },
    {
     "name": "stderr",
     "output_type": "stream",
     "text": [
      "/home/gaspar/miniconda3/lib/python3.6/site-packages/ipykernel_launcher.py:37: RuntimeWarning: divide by zero encountered in double_scalars\n"
     ]
    }
   ],
   "source": [
    "snrs = snr(sims['MODEL'], sims['PYHA'])\n",
    "print(f'Block AVG SNR: {snrs}')"
   ]
  },
  {
   "cell_type": "markdown",
   "metadata": {},
   "source": [
    "# Magnitude"
   ]
  },
  {
   "cell_type": "code",
   "execution_count": 15,
   "metadata": {},
   "outputs": [
    {
     "name": "stderr",
     "output_type": "stream",
     "text": [
      "INFO:sim:Running \"MODEL_PYHA\" simulation...\n",
      "INFO:sim:OK!\n",
      "INFO:sim:Converting model to hardware types ...\n",
      "INFO:sim:Converting simulation inputs to hardware types...\n",
      "INFO:sim:Running \"PYHA\" simulation...\n",
      "INFO:sim:OK!\n",
      "INFO:sim:Running \"RTL\" simulation...\n",
      "INFO:sim:Running COCOTB & GHDL simulation....\n"
     ]
    },
    {
     "ename": "Exception",
     "evalue": "Build with GHDL/Cocotb failed. See the converted sources for possible errors (run out of Notebook to actually see stdout and GHDL errors...)",
     "output_type": "error",
     "traceback": [
      "\u001b[0;31m---------------------------------------------------------------------------\u001b[0m",
      "\u001b[0;31mCalledProcessError\u001b[0m                        Traceback (most recent call last)",
      "\u001b[0;32m/home/gaspar/git/pyha/pyha/simulation/vhdl_simulation.py\u001b[0m in \u001b[0;36mrun\u001b[0;34m(self, *input_data)\u001b[0m\n\u001b[1;32m    188\u001b[0m         \u001b[0;32mtry\u001b[0m\u001b[0;34m:\u001b[0m\u001b[0;34m\u001b[0m\u001b[0m\n\u001b[0;32m--> 189\u001b[0;31m             \u001b[0msubprocess\u001b[0m\u001b[0;34m.\u001b[0m\u001b[0mrun\u001b[0m\u001b[0;34m(\u001b[0m\u001b[0;34m\"make\"\u001b[0m\u001b[0;34m,\u001b[0m \u001b[0menv\u001b[0m\u001b[0;34m=\u001b[0m\u001b[0mself\u001b[0m\u001b[0;34m.\u001b[0m\u001b[0menvironment\u001b[0m\u001b[0;34m,\u001b[0m \u001b[0mcwd\u001b[0m\u001b[0;34m=\u001b[0m\u001b[0mstr\u001b[0m\u001b[0;34m(\u001b[0m\u001b[0mself\u001b[0m\u001b[0;34m.\u001b[0m\u001b[0mbase_path\u001b[0m\u001b[0;34m)\u001b[0m\u001b[0;34m,\u001b[0m \u001b[0mcheck\u001b[0m\u001b[0;34m=\u001b[0m\u001b[0;32mTrue\u001b[0m\u001b[0;34m)\u001b[0m\u001b[0;34m\u001b[0m\u001b[0m\n\u001b[0m\u001b[1;32m    190\u001b[0m         \u001b[0;32mexcept\u001b[0m \u001b[0msubprocess\u001b[0m\u001b[0;34m.\u001b[0m\u001b[0mCalledProcessError\u001b[0m \u001b[0;32mas\u001b[0m \u001b[0merr\u001b[0m\u001b[0;34m:\u001b[0m\u001b[0;34m\u001b[0m\u001b[0m\n",
      "\u001b[0;32m/home/gaspar/miniconda3/lib/python3.6/subprocess.py\u001b[0m in \u001b[0;36mrun\u001b[0;34m(input, timeout, check, *popenargs, **kwargs)\u001b[0m\n\u001b[1;32m    417\u001b[0m             raise CalledProcessError(retcode, process.args,\n\u001b[0;32m--> 418\u001b[0;31m                                      output=stdout, stderr=stderr)\n\u001b[0m\u001b[1;32m    419\u001b[0m     \u001b[0;32mreturn\u001b[0m \u001b[0mCompletedProcess\u001b[0m\u001b[0;34m(\u001b[0m\u001b[0mprocess\u001b[0m\u001b[0;34m.\u001b[0m\u001b[0margs\u001b[0m\u001b[0;34m,\u001b[0m \u001b[0mretcode\u001b[0m\u001b[0;34m,\u001b[0m \u001b[0mstdout\u001b[0m\u001b[0;34m,\u001b[0m \u001b[0mstderr\u001b[0m\u001b[0;34m)\u001b[0m\u001b[0;34m\u001b[0m\u001b[0m\n",
      "\u001b[0;31mCalledProcessError\u001b[0m: Command 'make' returned non-zero exit status 2.",
      "\nDuring handling of the above exception, another exception occurred:\n",
      "\u001b[0;31mException\u001b[0m                                 Traceback (most recent call last)",
      "\u001b[0;32m<ipython-input-15-05a3d9fb9e47>\u001b[0m in \u001b[0;36m<module>\u001b[0;34m()\u001b[0m\n\u001b[1;32m      1\u001b[0m \u001b[0minp\u001b[0m \u001b[0;34m=\u001b[0m \u001b[0mnp\u001b[0m\u001b[0;34m.\u001b[0m\u001b[0marray\u001b[0m\u001b[0;34m(\u001b[0m\u001b[0msims\u001b[0m\u001b[0;34m[\u001b[0m\u001b[0;34m'PYHA'\u001b[0m\u001b[0;34m]\u001b[0m\u001b[0;34m)\u001b[0m \u001b[0;31m# input is the output of last block\u001b[0m\u001b[0;34m\u001b[0m\u001b[0m\n\u001b[1;32m      2\u001b[0m \u001b[0mdut\u001b[0m \u001b[0;34m=\u001b[0m \u001b[0mConjMult\u001b[0m\u001b[0;34m(\u001b[0m\u001b[0;34m)\u001b[0m\u001b[0;34m\u001b[0m\u001b[0m\n\u001b[0;32m----> 3\u001b[0;31m \u001b[0msims\u001b[0m \u001b[0;34m=\u001b[0m \u001b[0msimulate\u001b[0m\u001b[0;34m(\u001b[0m\u001b[0mdut\u001b[0m\u001b[0;34m,\u001b[0m \u001b[0minp\u001b[0m\u001b[0;34m,\u001b[0m \u001b[0msimulations\u001b[0m\u001b[0;34m=\u001b[0m\u001b[0;34m[\u001b[0m\u001b[0;34m'MODEL_PYHA'\u001b[0m\u001b[0;34m,\u001b[0m \u001b[0;34m'PYHA'\u001b[0m\u001b[0;34m]\u001b[0m \u001b[0;34m+\u001b[0m \u001b[0mextra_sims\u001b[0m\u001b[0;34m)\u001b[0m\u001b[0;34m\u001b[0m\u001b[0m\n\u001b[0m\u001b[1;32m      4\u001b[0m \u001b[0;32massert\u001b[0m \u001b[0mhardware_sims_equal\u001b[0m\u001b[0;34m(\u001b[0m\u001b[0msims\u001b[0m\u001b[0;34m)\u001b[0m\u001b[0;34m\u001b[0m\u001b[0m\n",
      "\u001b[0;32m/home/gaspar/git/pyha/pyha/simulation/simulation_interface.py\u001b[0m in \u001b[0;36msimulate\u001b[0;34m(model, simulations, conversion_path, input_types, *args)\u001b[0m\n\u001b[1;32m    249\u001b[0m             \u001b[0;32melse\u001b[0m\u001b[0;34m:\u001b[0m\u001b[0;34m\u001b[0m\u001b[0m\n\u001b[1;32m    250\u001b[0m                 \u001b[0mvhdl_sim\u001b[0m \u001b[0;34m=\u001b[0m \u001b[0mVHDLSimulation\u001b[0m\u001b[0;34m(\u001b[0m\u001b[0mPath\u001b[0m\u001b[0;34m(\u001b[0m\u001b[0mconversion_path\u001b[0m\u001b[0;34m)\u001b[0m\u001b[0;34m,\u001b[0m \u001b[0mmodel\u001b[0m\u001b[0;34m,\u001b[0m \u001b[0;34m'RTL'\u001b[0m\u001b[0;34m)\u001b[0m\u001b[0;34m\u001b[0m\u001b[0m\n\u001b[0;32m--> 251\u001b[0;31m                 \u001b[0mret\u001b[0m \u001b[0;34m=\u001b[0m \u001b[0mvhdl_sim\u001b[0m\u001b[0;34m.\u001b[0m\u001b[0mmain\u001b[0m\u001b[0;34m(\u001b[0m\u001b[0;34m*\u001b[0m\u001b[0margs\u001b[0m\u001b[0;34m)\u001b[0m\u001b[0;34m\u001b[0m\u001b[0m\n\u001b[0m\u001b[1;32m    252\u001b[0m \u001b[0;34m\u001b[0m\u001b[0m\n\u001b[1;32m    253\u001b[0m                 \u001b[0mout\u001b[0m\u001b[0;34m[\u001b[0m\u001b[0;34m'RTL'\u001b[0m\u001b[0;34m]\u001b[0m \u001b[0;34m=\u001b[0m \u001b[0mprocess_outputs\u001b[0m\u001b[0;34m(\u001b[0m\u001b[0mdelay_compensate\u001b[0m\u001b[0;34m,\u001b[0m \u001b[0mret\u001b[0m\u001b[0;34m)\u001b[0m\u001b[0;34m\u001b[0m\u001b[0m\n",
      "\u001b[0;32m/home/gaspar/git/pyha/pyha/simulation/vhdl_simulation.py\u001b[0m in \u001b[0;36mmain\u001b[0;34m(self, *input_data)\u001b[0m\n\u001b[1;32m     69\u001b[0m \u001b[0;34m\u001b[0m\u001b[0m\n\u001b[1;32m     70\u001b[0m     \u001b[0;32mdef\u001b[0m \u001b[0mmain\u001b[0m\u001b[0;34m(\u001b[0m\u001b[0mself\u001b[0m\u001b[0;34m,\u001b[0m \u001b[0;34m*\u001b[0m\u001b[0minput_data\u001b[0m\u001b[0;34m)\u001b[0m\u001b[0;34m:\u001b[0m\u001b[0;34m\u001b[0m\u001b[0m\n\u001b[0;32m---> 71\u001b[0;31m         \u001b[0;32mreturn\u001b[0m \u001b[0mself\u001b[0m\u001b[0;34m.\u001b[0m\u001b[0mcocoauto\u001b[0m\u001b[0;34m.\u001b[0m\u001b[0mrun\u001b[0m\u001b[0;34m(\u001b[0m\u001b[0;34m*\u001b[0m\u001b[0minput_data\u001b[0m\u001b[0;34m)\u001b[0m\u001b[0;34m\u001b[0m\u001b[0m\n\u001b[0m\u001b[1;32m     72\u001b[0m \u001b[0;34m\u001b[0m\u001b[0m\n\u001b[1;32m     73\u001b[0m     \u001b[0;32mdef\u001b[0m \u001b[0mmake_quartus_project\u001b[0m\u001b[0;34m(\u001b[0m\u001b[0mself\u001b[0m\u001b[0;34m)\u001b[0m\u001b[0;34m:\u001b[0m\u001b[0;34m\u001b[0m\u001b[0m\n",
      "\u001b[0;32m/home/gaspar/git/pyha/pyha/simulation/vhdl_simulation.py\u001b[0m in \u001b[0;36mrun\u001b[0;34m(self, *input_data)\u001b[0m\n\u001b[1;32m    190\u001b[0m         \u001b[0;32mexcept\u001b[0m \u001b[0msubprocess\u001b[0m\u001b[0;34m.\u001b[0m\u001b[0mCalledProcessError\u001b[0m \u001b[0;32mas\u001b[0m \u001b[0merr\u001b[0m\u001b[0;34m:\u001b[0m\u001b[0;34m\u001b[0m\u001b[0m\n\u001b[1;32m    191\u001b[0m             raise Exception(\n\u001b[0;32m--> 192\u001b[0;31m                 'Build with GHDL/Cocotb failed. See the converted sources for possible errors (run out of Notebook to actually see stdout and GHDL errors...)')\n\u001b[0m\u001b[1;32m    193\u001b[0m \u001b[0;34m\u001b[0m\u001b[0m\n\u001b[1;32m    194\u001b[0m         \u001b[0mout\u001b[0m \u001b[0;34m=\u001b[0m \u001b[0mnp\u001b[0m\u001b[0;34m.\u001b[0m\u001b[0mload\u001b[0m\u001b[0;34m(\u001b[0m\u001b[0mstr\u001b[0m\u001b[0;34m(\u001b[0m\u001b[0mself\u001b[0m\u001b[0;34m.\u001b[0m\u001b[0mbase_path\u001b[0m \u001b[0;34m/\u001b[0m \u001b[0;34m'output.npy'\u001b[0m\u001b[0;34m)\u001b[0m\u001b[0;34m)\u001b[0m\u001b[0;34m\u001b[0m\u001b[0m\n",
      "\u001b[0;31mException\u001b[0m: Build with GHDL/Cocotb failed. See the converted sources for possible errors (run out of Notebook to actually see stdout and GHDL errors...)"
     ]
    }
   ],
   "source": [
    "inp = np.array(sims['PYHA']) # input is the output of last block\n",
    "dut = ConjMult()\n",
    "sims = simulate(dut, inp, simulations=['MODEL_PYHA', 'PYHA'] + extra_sims)\n",
    "assert hardware_sims_equal(sims)"
   ]
  },
  {
   "cell_type": "code",
   "execution_count": null,
   "metadata": {},
   "outputs": [],
   "source": [
    "plt.plot(sims['MODEL_PYHA'], label='MODEL_PYHA')\n",
    "plt.plot(sims['PYHA'], label='HARDWARE')\n",
    "plt.legend()\n",
    "plt.show()"
   ]
  },
  {
   "cell_type": "code",
   "execution_count": null,
   "metadata": {},
   "outputs": [],
   "source": [
    "snrs = snr(sims['MODEL_PYHA'], sims['PYHA'])\n",
    "print(f'Block AVG SNR: {snrs}')"
   ]
  },
  {
   "cell_type": "markdown",
   "metadata": {},
   "source": [
    "# Decimation AVG"
   ]
  },
  {
   "cell_type": "code",
   "execution_count": null,
   "metadata": {},
   "outputs": [],
   "source": [
    "inp = np.array(sims['PYHA']) # input is the output of last block\n",
    "dut = AvgDecimate(freq_axis_avg_decimation)\n",
    "sims = simulate(dut, inp, simulations=['MODEL', 'PYHA'] + extra_sims)\n",
    "assert hardware_sims_equal(sims)"
   ]
  },
  {
   "cell_type": "code",
   "execution_count": null,
   "metadata": {},
   "outputs": [],
   "source": [
    "plt.plot(sims['MODEL'], label='MODEL')\n",
    "plt.plot(sims['PYHA'], label='HARDWARE')\n",
    "plt.legend()\n",
    "plt.show()"
   ]
  },
  {
   "cell_type": "code",
   "execution_count": null,
   "metadata": {},
   "outputs": [],
   "source": [
    "snrs = snr(sims['MODEL'], sims['PYHA'])\n",
    "print(f'Block AVG SNR: {snrs}')"
   ]
  },
  {
   "cell_type": "markdown",
   "metadata": {},
   "source": [
    "# Final evaluation"
   ]
  },
  {
   "cell_type": "code",
   "execution_count": null,
   "metadata": {},
   "outputs": [],
   "source": [
    "x = np.array(sims['PYHA']).reshape((-1, fft_points // freq_axis_avg_decimation))"
   ]
  },
  {
   "cell_type": "code",
   "execution_count": null,
   "metadata": {},
   "outputs": [],
   "source": [
    "imshow(x.T)"
   ]
  },
  {
   "cell_type": "code",
   "execution_count": null,
   "metadata": {},
   "outputs": [],
   "source": [
    "imshow(golden_output)"
   ]
  },
  {
   "cell_type": "code",
   "execution_count": null,
   "metadata": {},
   "outputs": [],
   "source": [
    "flat_spectro = golden_output.flatten()\n",
    "flat_spectro /= golden_output.max()\n",
    "\n",
    "flat_pyha = x.T.flatten()\n",
    "flat_pyha /= flat_pyha.max()\n",
    "\n",
    "plt.plot(flat_spectro, label='MODEL_PYHA')\n",
    "plt.plot(flat_pyha, label='HARDWARE')\n",
    "plt.legend()\n",
    "plt.show()\n",
    "\n",
    "plt.plot(flat_pyha - flat_spectro, label='MODEL_PYHA')\n",
    "plt.legend()\n",
    "plt.show()\n"
   ]
  },
  {
   "cell_type": "code",
   "execution_count": null,
   "metadata": {},
   "outputs": [],
   "source": [
    "snrs = snr(flat_spectro, flat_pyha)\n",
    "print(f'Block AVG SNR: {snrs}')"
   ]
  },
  {
   "cell_type": "code",
   "execution_count": null,
   "metadata": {},
   "outputs": [],
   "source": []
  }
 ],
 "metadata": {
  "kernelspec": {
   "display_name": "Python 3",
   "language": "python",
   "name": "python3"
  },
  "language_info": {
   "codemirror_mode": {
    "name": "ipython",
    "version": 3
   },
   "file_extension": ".py",
   "mimetype": "text/x-python",
   "name": "python",
   "nbconvert_exporter": "python",
   "pygments_lexer": "ipython3",
   "version": "3.6.3"
  }
 },
 "nbformat": 4,
 "nbformat_minor": 1
}
