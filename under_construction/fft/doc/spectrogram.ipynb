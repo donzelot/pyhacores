{
 "cells": [
  {
   "cell_type": "code",
   "execution_count": null,
   "metadata": {},
   "outputs": [],
   "source": [
    "from scipy import signal\n",
    "import numpy as np\n",
    "import matplotlib.pyplot as plt\n",
    "from scipy.fftpack import fft, ifft\n",
    "import pandas as pd\n",
    "%load_ext autoreload\n",
    "%autoreload 2\n",
    "import sys\n",
    "import copy\n",
    "\n",
    "from pyha import Hardware, simulate, sims_close, Complex, resize, hardware_sims_equal\n",
    "from pathlib import Path\n",
    "from data import load_iq\n",
    "sys.path.insert(0,'/home/gaspar/git/pyhacores/under_construction/fft/')\n",
    "from under_construction.fft.bit_reversal_fftshift import BitReversal\n",
    "from under_construction.fft.conjmult import ConjMult\n",
    "from under_construction.fft.fft_core import R2SDF\n",
    "from under_construction.fft.windower import Windower\n",
    "from under_construction.fft.avg_decimate import AvgDecimate\n",
    "\n",
    "def imshow(im):\n",
    "    from skimage.exposure import exposure\n",
    "    p2, p98 = np.percentile(im, (2, 98))\n",
    "    im = exposure.rescale_intensity(im, in_range=(p2, p98))\n",
    "\n",
    "    \n",
    "    plt.imshow(im, interpolation='nearest', aspect='auto', origin='lower')\n",
    "    plt.tight_layout()\n",
    "    plt.show()\n",
    "    \n",
    "    \n",
    "def snr(pure, noisy):\n",
    "    sig_pow = np.mean(np.abs(pure))\n",
    "    error = np.array(pure) - np.array(noisy)\n",
    "    err_pow = np.mean(np.abs(error))\n",
    "    \n",
    "    snr_db = 20*np.log10(sig_pow/err_pow)\n",
    "    return snr_db\n"
   ]
  },
  {
   "cell_type": "markdown",
   "metadata": {},
   "source": [
    "# Config"
   ]
  },
  {
   "cell_type": "code",
   "execution_count": null,
   "metadata": {},
   "outputs": [],
   "source": [
    "fft_points = 256\n",
    "freq_axis_avg_decimation = 2\n",
    "extra_sims = ['RTL']"
   ]
  },
  {
   "cell_type": "markdown",
   "metadata": {},
   "source": [
    "# Prepare input"
   ]
  },
  {
   "cell_type": "code",
   "execution_count": null,
   "metadata": {},
   "outputs": [],
   "source": [
    "inp = load_iq('/home/gaspar/git/pyhacores/data/f2404_fs16.896_one_hop.iq')\n",
    "inp = signal.decimate(inp, 8)\n",
    "inp *= 0.5\n",
    "print(len(inp))\n",
    "print(inp.max())\n",
    "\n",
    "# make sure input divides with fft_points\n",
    "inp = np.array(inp[:int(len(inp) // fft_points) * fft_points])"
   ]
  },
  {
   "cell_type": "markdown",
   "metadata": {},
   "source": [
    "# Golden output"
   ]
  },
  {
   "cell_type": "code",
   "execution_count": null,
   "metadata": {},
   "outputs": [],
   "source": [
    "_, _, spectro_out = signal.spectrogram(inp, 1, nperseg=fft_points, return_onesided=False, detrend=False,\n",
    "                               noverlap=0, window='hann')\n",
    "\n",
    "# fftshift\n",
    "spectro_out = np.roll(spectro_out, fft_points//2, axis=0)\n",
    "\n",
    "# avg decimation\n",
    "x = np.split(spectro_out, len(spectro_out) // freq_axis_avg_decimation)\n",
    "golden_output = np.average(x, axis=1)\n",
    "\n",
    "imshow(golden_output)"
   ]
  },
  {
   "cell_type": "markdown",
   "metadata": {},
   "source": [
    "# Apply windowing"
   ]
  },
  {
   "cell_type": "code",
   "execution_count": null,
   "metadata": {},
   "outputs": [],
   "source": [
    "dut = Windower(fft_points)"
   ]
  },
  {
   "cell_type": "code",
   "execution_count": null,
   "metadata": {},
   "outputs": [],
   "source": [
    "sims = simulate(dut, inp, simulations=['MODEL', 'PYHA'] + extra_sims)\n",
    "assert hardware_sims_equal(sims)"
   ]
  },
  {
   "cell_type": "code",
   "execution_count": null,
   "metadata": {},
   "outputs": [],
   "source": [
    "plt.plot(sims['MODEL'], label='MODEL')\n",
    "plt.plot(sims['PYHA'], label='HARDWARE')\n",
    "plt.legend()\n",
    "plt.show()"
   ]
  },
  {
   "cell_type": "code",
   "execution_count": null,
   "metadata": {},
   "outputs": [],
   "source": [
    "snrs = snr(sims['MODEL'], sims['PYHA'])\n",
    "print(f'Block AVG SNR: {snrs}')"
   ]
  },
  {
   "cell_type": "markdown",
   "metadata": {},
   "source": [
    "# FFT"
   ]
  },
  {
   "cell_type": "code",
   "execution_count": null,
   "metadata": {},
   "outputs": [],
   "source": [
    "inp = np.array(sims['PYHA']) # input is the output of last block\n",
    "dut = R2SDF(fft_points)\n",
    "sims = simulate(dut, inp, simulations=['MODEL', 'PYHA'] + extra_sims)\n",
    "assert hardware_sims_equal(sims)\n",
    "\n",
    "# fix fft gain\n",
    "sims['MODEL'] = np.array(sims['MODEL']) * dut.GAIN_CORRECTION"
   ]
  },
  {
   "cell_type": "code",
   "execution_count": null,
   "metadata": {},
   "outputs": [],
   "source": [
    "plt.plot(sims['MODEL'], label='MODEL')\n",
    "plt.plot(sims['PYHA'], label='HARDWARE')\n",
    "plt.legend()\n",
    "plt.show()"
   ]
  },
  {
   "cell_type": "code",
   "execution_count": null,
   "metadata": {},
   "outputs": [],
   "source": [
    "snrs = snr(sims['MODEL'], sims['PYHA'])\n",
    "print(f'Block AVG SNR: {snrs}')"
   ]
  },
  {
   "cell_type": "markdown",
   "metadata": {},
   "source": [
    "# Bit-reversal and fftshift"
   ]
  },
  {
   "cell_type": "code",
   "execution_count": null,
   "metadata": {},
   "outputs": [],
   "source": [
    "inp = np.array(sims['PYHA']) # input is the output of last block\n",
    "dut = BitReversal(fft_points)\n",
    "sims = simulate(dut, inp, simulations=['MODEL', 'PYHA'] + extra_sims)\n",
    "assert hardware_sims_equal(sims)\n"
   ]
  },
  {
   "cell_type": "code",
   "execution_count": null,
   "metadata": {},
   "outputs": [],
   "source": [
    "plt.plot(sims['MODEL'], label='MODEL')\n",
    "plt.plot(sims['PYHA'], label='HARDWARE')\n",
    "plt.legend()\n",
    "plt.show()\n",
    "\n",
    "plt.plot(sims['RTL'], label='HARDWARE')\n",
    "plt.legend()\n",
    "plt.show()"
   ]
  },
  {
   "cell_type": "code",
   "execution_count": null,
   "metadata": {},
   "outputs": [],
   "source": [
    "snrs = snr(sims['MODEL'], sims['PYHA'])\n",
    "print(f'Block AVG SNR: {snrs}')"
   ]
  },
  {
   "cell_type": "markdown",
   "metadata": {},
   "source": [
    "# Magnitude"
   ]
  },
  {
   "cell_type": "code",
   "execution_count": null,
   "metadata": {},
   "outputs": [],
   "source": [
    "inp = np.array(sims['PYHA']) # input is the output of last block\n",
    "dut = ConjMult()\n",
    "sims = simulate(dut, inp, simulations=['MODEL_PYHA', 'PYHA'] + extra_sims)\n",
    "assert hardware_sims_equal(sims)"
   ]
  },
  {
   "cell_type": "code",
   "execution_count": null,
   "metadata": {},
   "outputs": [],
   "source": [
    "plt.plot(sims['MODEL_PYHA'], label='MODEL_PYHA')\n",
    "plt.plot(sims['PYHA'], label='HARDWARE')\n",
    "plt.legend()\n",
    "plt.show()"
   ]
  },
  {
   "cell_type": "code",
   "execution_count": null,
   "metadata": {},
   "outputs": [],
   "source": [
    "snrs = snr(sims['MODEL_PYHA'], sims['PYHA'])\n",
    "print(f'Block AVG SNR: {snrs}')"
   ]
  },
  {
   "cell_type": "markdown",
   "metadata": {},
   "source": [
    "# Decimation AVG"
   ]
  },
  {
   "cell_type": "code",
   "execution_count": null,
   "metadata": {},
   "outputs": [],
   "source": [
    "inp = np.array(sims['PYHA']) # input is the output of last block\n",
    "dut = AvgDecimate(freq_axis_avg_decimation)\n",
    "sims = simulate(dut, inp, simulations=['MODEL', 'PYHA'] + extra_sims)\n",
    "assert hardware_sims_equal(sims)"
   ]
  },
  {
   "cell_type": "code",
   "execution_count": null,
   "metadata": {},
   "outputs": [],
   "source": [
    "plt.plot(sims['MODEL'], label='MODEL')\n",
    "plt.plot(sims['PYHA'], label='HARDWARE')\n",
    "plt.legend()\n",
    "plt.show()"
   ]
  },
  {
   "cell_type": "code",
   "execution_count": null,
   "metadata": {},
   "outputs": [],
   "source": [
    "snrs = snr(sims['MODEL'], sims['PYHA'])\n",
    "print(f'Block AVG SNR: {snrs}')"
   ]
  },
  {
   "cell_type": "markdown",
   "metadata": {},
   "source": [
    "# Final evaluation"
   ]
  },
  {
   "cell_type": "code",
   "execution_count": null,
   "metadata": {},
   "outputs": [],
   "source": [
    "x = np.array(sims['PYHA']).reshape((-1, fft_points // freq_axis_avg_decimation))"
   ]
  },
  {
   "cell_type": "code",
   "execution_count": null,
   "metadata": {},
   "outputs": [],
   "source": [
    "imshow(x.T)"
   ]
  },
  {
   "cell_type": "code",
   "execution_count": null,
   "metadata": {},
   "outputs": [],
   "source": [
    "imshow(golden_output)"
   ]
  },
  {
   "cell_type": "code",
   "execution_count": null,
   "metadata": {},
   "outputs": [],
   "source": [
    "flat_spectro = golden_output.flatten()\n",
    "flat_spectro /= golden_output.max()\n",
    "\n",
    "flat_pyha = x.T.flatten()\n",
    "flat_pyha /= flat_pyha.max()\n",
    "\n",
    "plt.plot(flat_spectro, label='MODEL_PYHA')\n",
    "plt.plot(flat_pyha, label='HARDWARE')\n",
    "plt.legend()\n",
    "plt.show()\n",
    "\n",
    "plt.plot(flat_pyha - flat_spectro, label='MODEL_PYHA')\n",
    "plt.legend()\n",
    "plt.show()\n"
   ]
  },
  {
   "cell_type": "code",
   "execution_count": null,
   "metadata": {},
   "outputs": [],
   "source": [
    "snrs = snr(flat_spectro, flat_pyha)\n",
    "print(f'Block AVG SNR: {snrs}')"
   ]
  },
  {
   "cell_type": "code",
   "execution_count": null,
   "metadata": {},
   "outputs": [],
   "source": []
  }
 ],
 "metadata": {
  "kernelspec": {
   "display_name": "Python 3",
   "language": "python",
   "name": "python3"
  },
  "language_info": {
   "codemirror_mode": {
    "name": "ipython",
    "version": 3
   },
   "file_extension": ".py",
   "mimetype": "text/x-python",
   "name": "python",
   "nbconvert_exporter": "python",
   "pygments_lexer": "ipython3",
   "version": "3.6.3"
  }
 },
 "nbformat": 4,
 "nbformat_minor": 1
}
