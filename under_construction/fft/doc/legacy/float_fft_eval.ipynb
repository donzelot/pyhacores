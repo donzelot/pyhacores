{
 "cells": [
  {
   "cell_type": "code",
   "execution_count": 1,
   "metadata": {},
   "outputs": [],
   "source": [
    "from scipy import signal\n",
    "import numpy as np\n",
    "from scipy.fftpack import fft, ifft\n",
    "import pandas as pd\n",
    "\n",
    "import matplotlib\n",
    "matplotlib.use('nbagg')\n",
    "from pylab import rcParams\n",
    "rcParams['figure.figsize'] = 9, 4\n",
    "import matplotlib.pyplot as plt\n",
    "import scipy\n",
    "\n",
    "%load_ext autoreload\n",
    "%autoreload 2\n",
    "import sys\n",
    "import copy\n",
    "\n",
    "from pyha import Hardware, simulate, sims_close, Complex, resize, hardware_sims_equal\n",
    "from pathlib import Path\n",
    "from data import load_iq\n",
    "\n",
    "def imshow(im):\n",
    "    from skimage.exposure import exposure\n",
    "    p2, p98 = np.percentile(im, (2, 98))\n",
    "    im = exposure.rescale_intensity(im, in_range=(p2, p98))\n",
    "\n",
    "    \n",
    "    plt.imshow(im, interpolation='nearest', aspect='auto', origin='lower')\n",
    "    plt.tight_layout()\n",
    "    plt.show()\n",
    "    \n",
    "    \n",
    "def snr(pure, noisy):\n",
    "    sig_pow = np.mean(np.abs(pure))\n",
    "    error = np.array(pure) - np.array(noisy)\n",
    "    err_pow = np.mean(np.abs(error))\n",
    "    \n",
    "    snr_db = 20*np.log10(sig_pow/err_pow)\n",
    "    return snr_db\n",
    "\n",
    "from under_construction.fft.bit_reversal_fftshift import bit_reversed_indexes\n",
    "from under_construction.fft.fft_core import R2SDFSFIX, R2SDF\n",
    "from under_construction.fft.packager import DataWithIndex, unpackage, package\n",
    "\n",
    "def show_freqz(taps):\n",
    "    w, h = scipy.signal.freqz(taps)\n",
    "    fig, ax1 = plt.subplots(1, 1)\n",
    "    plt.title('Digital filter frequency response')\n",
    "    ax1.plot(w / np.pi, 20 * np.log10(abs(h)), 'b')\n",
    "    ax1.set_ylabel('Amplitude [dB]', color='b')\n",
    "    ax1.set_xlabel('Frequency')\n",
    "    plt.grid()\n",
    "    ax2 = ax1.twinx()\n",
    "    angles = np.unwrap(np.angle(h))\n",
    "    ax2.plot(w / np.pi, angles, 'g')\n",
    "    ax2.set_ylabel('Angle (radians)', color='g')\n",
    "    ax2.axis('tight')\n",
    "    plt.tight_layout()\n",
    "    plt.show()\n",
    "    \n",
    "def show_plot():\n",
    "    plt.tight_layout()\n",
    "    plt.grid()\n",
    "    if plt.gca().get_legend_handles_labels() != ([], []):\n",
    "        plt.legend()\n",
    "    plt.show()\n",
    "    \n",
    "def bit_reverse(x, n_bits):\n",
    "    return int(np.binary_repr(x, n_bits)[::-1], 2)\n",
    "\n",
    "def bit_reversed_indexes(N):\n",
    "    return [bit_reverse(i, int(np.log2(N))) for i in range(N)]\n",
    "\n",
    "from pyha import Hardware, simulate, sims_close, Complex, Sfix\n",
    "from pyha.common.float import *\n",
    "# Float.use_float16 = True\n",
    "# Float.use_float16 = False\n",
    "\n",
    "from mpmath import mp \n",
    "results = {}"
   ]
  },
  {
   "cell_type": "markdown",
   "metadata": {},
   "source": [
    "\n",
    "# FFT"
   ]
  },
  {
   "cell_type": "code",
   "execution_count": 2,
   "metadata": {},
   "outputs": [],
   "source": [
    "from pyha.common.shift_register import ShiftRegister\n",
    "from under_construction.fft.packager import DataWithIndex, unpackage, package\n",
    "\n",
    "def W(k, N):\n",
    "    \"\"\" e^-j*2*PI*k*n/N, argument k = k * n \"\"\"\n",
    "    return np.exp(-1j * (2 * np.pi / N) * k)\n",
    "\n",
    "class StageR2SDF(Hardware):\n",
    "    def __init__(self, fft_size):\n",
    "        self.FFT_SIZE = fft_size\n",
    "        self.FFT_HALF = fft_size // 2\n",
    "\n",
    "        self.CONTROL_MASK = (self.FFT_HALF - 1)\n",
    "        self.shr = ShiftRegister([ComplexFloat() for _ in range(self.FFT_HALF)])\n",
    "\n",
    "#         self.TWIDDLES = [Complex(W(i, self.FFT_SIZE), 0, -8, overflow_style='saturate', round_style='round') for i in range(self.FFT_HALF)]\n",
    "        self.TWIDDLES = [ComplexFloat(W(i, self.FFT_SIZE)) for i in range(self.FFT_HALF)]\n",
    "        # self.TWIDDLES = [W(i, self.FFT_SIZE) for i in range(self.FFT_HALF)]\n",
    "\n",
    "    def butterfly(self, in_up, in_down, twiddle):\n",
    "        up = in_up + in_down\n",
    "        down_part = in_up - in_down\n",
    "        down = down_part * twiddle\n",
    "        return up, down\n",
    "\n",
    "    def main(self, x, control):\n",
    "        if not (control & self.FFT_HALF):\n",
    "            self.shr.push_next(x)\n",
    "            return self.shr.peek()\n",
    "        else:\n",
    "            twid = self.TWIDDLES[control & self.CONTROL_MASK]\n",
    "            up, down = self.butterfly(self.shr.peek(), x, twid)\n",
    "\n",
    "            # if self.FFT_HALF > 4:\n",
    "            #     down >>= 1\n",
    "            #     up >>= 1\n",
    "\n",
    "            self.shr.push_next(down)\n",
    "            return up\n",
    "\n",
    "\n",
    "class R2SDF(Hardware):\n",
    "    def __init__(self, fft_size):\n",
    "        self.FFT_SIZE = fft_size\n",
    "\n",
    "        self.n_bits = int(np.log2(fft_size))\n",
    "        self.stages = [StageR2SDF(2 ** (pow + 1)) for pow in reversed(range(self.n_bits))]\n",
    "\n",
    "        # Note: it is NOT correct to use this gain after the magnitude/abs operation, it has to be applied to complex values\n",
    "        self.GAIN_CORRECTION = 2 ** (0 if self.n_bits - 3 < 0 else -(self.n_bits - 3))\n",
    "        self.DELAY = (fft_size - 1) + 1  # +1 is output register\n",
    "\n",
    "        self.out = DataWithIndex(ComplexFloat(), 0)\n",
    "\n",
    "    def main(self, x):\n",
    "        # #execute stages\n",
    "        out = x.data\n",
    "        for stage in self.stages:\n",
    "            out = stage.main(out, x.index)\n",
    "\n",
    "        self.out.data = out\n",
    "        self.out.index = (x.index + self.DELAY + 1) % self.FFT_SIZE\n",
    "        self.out.valid = x.valid\n",
    "        return self.out\n",
    "\n",
    "    def model_main(self, x):\n",
    "        ffts = np.fft.fft(x)\n",
    "\n",
    "        # apply bit reversing ie. mess up the output order to match radix-2 algorithm\n",
    "        # from under_construction.fft.bit_reversal import bit_reversed_indexes\n",
    "        def bit_reverse(x, n_bits):\n",
    "            return int(np.binary_repr(x, n_bits)[::-1], 2)\n",
    "\n",
    "        def bit_reversed_indexes(N):\n",
    "            return [bit_reverse(i, int(np.log2(N))) for i in range(N)]\n",
    "\n",
    "        rev_index = bit_reversed_indexes(self.FFT_SIZE)\n",
    "#         for i, _ in enumerate(ffts):\n",
    "#             ffts[i] = ffts[i][rev_index]\n",
    "        ffts = ffts[rev_index]\n",
    "        # apply gain control (to avoid overflows in hardware)\n",
    "        ffts *= self.GAIN_CORRECTION\n",
    "\n",
    "        return ffts\n",
    "    \n",
    "def postprocess(x):\n",
    "    pyh = x\n",
    "    pyh = pyh[bit_reversed_indexes(fft_size)]\n",
    "    pyh = np.fft.fftshift(pyh)\n",
    "    pyh = [complex(x) for x in pyh]\n",
    "    pyh = np.abs(pyh)\n",
    "    pyh = pyh / pyh.max()\n",
    "\n",
    "    a = 20 * np.log10(pyh \n",
    "#                       + 0.0000000000000000000001\n",
    "                     ) # add small number to avoid div by 0\n",
    "    return a"
   ]
  },
  {
   "cell_type": "code",
   "execution_count": 3,
   "metadata": {},
   "outputs": [],
   "source": [
    "fft_size = 1024 * 2 * 2 * 2 * 2\n",
    "\n",
    "# sig = np.exp(2j*np.pi*np.linspace(0, 1, fft_size) * 100) * 0.25\n",
    "# sig = sig * hann_fix9\n",
    "\n",
    "# sig2 = np.exp(2j*np.pi*np.linspace(0, 1, fft_size) * 110) * 0.25\n",
    "# sig2 = sig2 * hann_fix9\n",
    "\n",
    "# sig = sig + sig2\n",
    "\n",
    "sig = np.exp(2j*np.pi*np.linspace(0, 1, fft_size) * 1000)\n",
    "# for i in range(800, 1000, 2):\n",
    "#     sig2 = np.exp(2j*np.pi*np.linspace(0, 1, fft_size) * i * -1)\n",
    "#     sig = sig + sig2\n",
    "\n",
    "# sig *= 1 / 2 / 2 / 2 /2 / 2 / 2 / 2 / 2 / 2 /2 /2 /2 /2 /2 / 2 /2 /2 /2\n",
    "# sig *= 1 / 2 / 2 / 2 /2 / 2 / 2 / 2 / 2 / 2 /2 /2 /2 /2 /2 / 2 /2 /2 /2 /2 /2\n",
    "# sig = np.array([Complex(x, 0, -11, overflow_style='saturate').val for x in  sig]) # simulate ADC\n",
    "sig *= np.hanning(fft_size)\n",
    "# sig_fix *= hann_fix9"
   ]
  },
  {
   "cell_type": "code",
   "execution_count": null,
   "metadata": {},
   "outputs": [
    {
     "name": "stderr",
     "output_type": "stream",
     "text": [
      "/usr/lib/python3.6/site-packages/numpy/core/numeric.py:492: ComplexWarning: Casting complex values to real discards the imaginary part\n",
      "  return array(a, dtype, copy=False, order=order)\n"
     ]
    },
    {
     "data": {
      "text/plain": [
       "<IPython.core.display.Javascript object>"
      ]
     },
     "metadata": {},
     "output_type": "display_data"
    },
    {
     "data": {
      "text/html": [
       "<div id='dc50be84-3278-4142-8ba1-2f65375d8286'></div>"
      ],
      "text/plain": [
       "<IPython.core.display.HTML object>"
      ]
     },
     "metadata": {},
     "output_type": "execute_result"
    },
    {
     "data": {
      "text/plain": [
       "<IPython.core.display.Javascript object>"
      ]
     },
     "metadata": {},
     "output_type": "display_data"
    },
    {
     "data": {
      "text/html": [
       "<div id='a2f3a168-a74b-4cfc-80bd-81034a3cb6e9'></div>"
      ],
      "text/plain": [
       "<IPython.core.display.HTML object>"
      ]
     },
     "metadata": {},
     "output_type": "execute_result"
    }
   ],
   "source": [
    "plt.plot(sig)\n",
    "plt.show()\n",
    "\n",
    "plt.magnitude_spectrum(sig, window=matplotlib.mlab.window_none, scale='dB')\n",
    "plt.grid()\n",
    "plt.show()"
   ]
  },
  {
   "cell_type": "code",
   "execution_count": null,
   "metadata": {},
   "outputs": [
    {
     "name": "stderr",
     "output_type": "stream",
     "text": [
      "INFO:sim:Converting model to hardware types ...\n",
      "INFO:sim:Running \"MODEL\" simulation...\n",
      "INFO:sim:OK!\n",
      "INFO:sim:Converting simulation inputs to hardware types...\n",
      "INFO:sim:Running \"PYHA\" simulation...\n"
     ]
    }
   ],
   "source": [
    "Float.radix = 32\n",
    "Float.default_exponent_bits = 3\n",
    "Float.default_fractional_bits = 15\n",
    "Float.use_float16 = False\n",
    "dut = R2SDF(fft_size)\n",
    "sims = simulate(dut, sig, input_types=[ComplexFloat()], simulations=['MODEL', 'PYHA'], output_callback=unpackage, input_callback=package)\n",
    "results['Float64'] = postprocess(np.array([complex(x) for x in sims['MODEL']]))\n",
    "results['Radix32'] = postprocess(np.array([complex(x) for x in sims['PYHA'][0]]))\n",
    "\n",
    "# Float.radix = 16\n",
    "# Float.default_exponent_bits = 4\n",
    "# Float.default_fractional_bits = 14\n",
    "# Float.use_float16 = False\n",
    "# dut = R2SDF(fft_size)\n",
    "# sims = simulate(dut, sig, input_types=[ComplexFloat()], simulations=['PYHA'], output_callback=unpackage, input_callback=package)\n",
    "# results['Radix16'] = postprocess(np.array([complex(x) for x in sims['PYHA'][0]]))\n",
    "\n",
    "# Float.use_float16 = True\n",
    "# Float.radix = 16\n",
    "# Float.default_exponent_bits = 1\n",
    "# Float.default_fractional_bits = 1\n",
    "# dut = R2SDF(fft_size)\n",
    "# sims = simulate(dut, sig, input_types=[ComplexFloat()], simulations=['PYHA'], output_callback=unpackage, input_callback=package)\n",
    "# results['Float16'] = postprocess(np.array([complex(x) for x in sims['PYHA'][0]]))\n",
    "\n"
   ]
  },
  {
   "cell_type": "code",
   "execution_count": null,
   "metadata": {},
   "outputs": [],
   "source": [
    "Float.use_float16 = True\n",
    "Float.radix = 16\n",
    "Float.default_exponent_bits = 1\n",
    "Float.default_fractional_bits = 1\n",
    "dut = R2SDF(fft_size)\n",
    "sims = simulate(dut, sig, input_types=[ComplexFloat()], simulations=['PYHA'], output_callback=unpackage, input_callback=package)\n",
    "results['Float16'] = postprocess(np.array([complex(x) for x in sims['PYHA'][0]]))"
   ]
  },
  {
   "cell_type": "code",
   "execution_count": null,
   "metadata": {},
   "outputs": [],
   "source": [
    "results['Float64'].min()"
   ]
  },
  {
   "cell_type": "code",
   "execution_count": null,
   "metadata": {},
   "outputs": [],
   "source": [
    "for key, val in results.items():\n",
    "    plt.plot(val, label=key)\n",
    "plt.legend()\n",
    "plt.ylim([-130, 10])\n",
    "plt.grid()\n",
    "plt.show()"
   ]
  },
  {
   "cell_type": "code",
   "execution_count": null,
   "metadata": {},
   "outputs": [],
   "source": [
    "for key, val in results.items():\n",
    "    plt.plot(results['Float64'] - val, label=key)\n",
    "plt.legend()\n",
    "plt.grid()\n",
    "plt.show()\n",
    "\n",
    "for key, val in results.items():\n",
    "    print(f'{key} SNR: {snr(results[\"Float64\"], val)} dB')\n",
    "#     plt.plot(results['Float64'] - val, label=key)"
   ]
  },
  {
   "cell_type": "code",
   "execution_count": null,
   "metadata": {},
   "outputs": [],
   "source": []
  }
 ],
 "metadata": {
  "kernelspec": {
   "display_name": "Python 3",
   "language": "python",
   "name": "python3"
  },
  "language_info": {
   "codemirror_mode": {
    "name": "ipython",
    "version": 3
   },
   "file_extension": ".py",
   "mimetype": "text/x-python",
   "name": "python",
   "nbconvert_exporter": "python",
   "pygments_lexer": "ipython3",
   "version": "3.6.5"
  }
 },
 "nbformat": 4,
 "nbformat_minor": 1
}
