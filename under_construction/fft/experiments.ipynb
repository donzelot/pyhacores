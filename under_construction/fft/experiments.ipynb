{
 "cells": [
  {
   "cell_type": "code",
   "execution_count": 1,
   "metadata": {},
   "outputs": [],
   "source": [
    "import numpy as np\n",
    "import matplotlib.pyplot as plt\n",
    "from scipy.fftpack import fft, ifft\n",
    "import pandas as pd"
   ]
  },
  {
   "cell_type": "code",
   "execution_count": 7,
   "metadata": {},
   "outputs": [],
   "source": [
    "def bit_reverse(x, n_bits):\n",
    "    return int(np.binary_repr(x, n_bits)[::-1], 2);\n",
    "\n",
    "def correct_radix2_indexes(N):\n",
    "    return [bit_reverse(i, int(np.log2(N))) for i in range(N)]\n",
    "\n",
    "def W(k, N):\n",
    "    return np.exp(-1j*(2*np.pi/N)*k)\n",
    "\n",
    "\n",
    "def radix2_fft_recursive(s):\n",
    "    N = len(s)\n",
    "    x = [0] * N\n",
    "    half = N//2\n",
    "    for i in range(half):\n",
    "        x[i] = s[i] + s[i+half]\n",
    "        x[i+half] = (s[i] - s[i+half]) * W(i, N)\n",
    "        print(N, s[i], s[i+half])\n",
    "    \n",
    "    if len(x) > 2:\n",
    "        first = radix2_fft_recursive(x[:half])\n",
    "        second = radix2_fft_recursive(x[half:])\n",
    "        \n",
    "        return first + second\n",
    "    return x\n",
    "\n",
    "def radix2_fft(s):\n",
    "    r = radix2_fft_recursive(s)\n",
    "    r = np.array(r)[correct_radix2_indexes(len(x))]\n",
    "    return r"
   ]
  },
  {
   "cell_type": "code",
   "execution_count": 11,
   "metadata": {},
   "outputs": [
    {
     "name": "stdout",
     "output_type": "stream",
     "text": [
      "4 0 2\n",
      "4 1 3\n",
      "2 2 4\n",
      "2 (-2+0j) (-1.2246467991473532e-16+2j)\n"
     ]
    }
   ],
   "source": [
    "x = (np.random.uniform(-1, 1, 4) + np.random.uniform(-1, 1, 4)*1j) * 0.5\n",
    "x = [0, 1, 2, 3]\n",
    "model = fft(x)\n",
    "dut = radix2_fft(x)\n",
    "np.testing.assert_allclose(model, dut)"
   ]
  },
  {
   "cell_type": "code",
   "execution_count": 6,
   "metadata": {},
   "outputs": [
    {
     "data": {
      "text/plain": [
       "array([ 0.4+0.6j, -0.2-0.2j])"
      ]
     },
     "execution_count": 6,
     "metadata": {},
     "output_type": "execute_result"
    }
   ],
   "source": [
    "x = [0.1 + 0.2j, 0.3 + 0.4j]\n",
    "fft(x)"
   ]
  },
  {
   "cell_type": "code",
   "execution_count": 7,
   "metadata": {},
   "outputs": [
    {
     "data": {
      "text/plain": [
       "(0.2+0.4j)"
      ]
     },
     "execution_count": 7,
     "metadata": {},
     "output_type": "execute_result"
    }
   ],
   "source": [
    "x[0] + x[1]"
   ]
  },
  {
   "cell_type": "code",
   "execution_count": 12,
   "metadata": {},
   "outputs": [
    {
     "data": {
      "text/plain": [
       "(1+0j)"
      ]
     },
     "execution_count": 12,
     "metadata": {},
     "output_type": "execute_result"
    }
   ],
   "source": [
    "N = 2\n",
    "k = 0\n",
    "n = 1\n",
    "np.exp( (-2j*np.pi*k*n) /N)"
   ]
  },
  {
   "cell_type": "code",
   "execution_count": 20,
   "metadata": {},
   "outputs": [
    {
     "name": "stderr",
     "output_type": "stream",
     "text": [
      "/home/gaspar/miniconda3/lib/python3.6/site-packages/ipykernel_launcher.py:5: ComplexWarning: Casting complex values to real discards the imaginary part\n",
      "  \"\"\"\n"
     ]
    }
   ],
   "source": [
    "N = 8\n",
    "r = np.empty(shape=(N,N))\n",
    "for k in range(N):\n",
    "    for n in range(N):\n",
    "        r[k][n] = np.exp(-1j * 2 * np.pi * k * n / N)\n",
    "        "
   ]
  },
  {
   "cell_type": "code",
   "execution_count": 22,
   "metadata": {},
   "outputs": [
    {
     "data": {
      "text/html": [
       "<div>\n",
       "<style scoped>\n",
       "    .dataframe tbody tr th:only-of-type {\n",
       "        vertical-align: middle;\n",
       "    }\n",
       "\n",
       "    .dataframe tbody tr th {\n",
       "        vertical-align: top;\n",
       "    }\n",
       "\n",
       "    .dataframe thead th {\n",
       "        text-align: right;\n",
       "    }\n",
       "</style>\n",
       "<table border=\"1\" class=\"dataframe\">\n",
       "  <thead>\n",
       "    <tr style=\"text-align: right;\">\n",
       "      <th></th>\n",
       "      <th>0</th>\n",
       "      <th>1</th>\n",
       "      <th>2</th>\n",
       "      <th>3</th>\n",
       "      <th>4</th>\n",
       "      <th>5</th>\n",
       "      <th>6</th>\n",
       "      <th>7</th>\n",
       "    </tr>\n",
       "  </thead>\n",
       "  <tbody>\n",
       "    <tr>\n",
       "      <th>0</th>\n",
       "      <td>1.0</td>\n",
       "      <td>1.000000e+00</td>\n",
       "      <td>1.000000e+00</td>\n",
       "      <td>1.000000e+00</td>\n",
       "      <td>1.0</td>\n",
       "      <td>1.000000e+00</td>\n",
       "      <td>1.000000e+00</td>\n",
       "      <td>1.000000e+00</td>\n",
       "    </tr>\n",
       "    <tr>\n",
       "      <th>1</th>\n",
       "      <td>1.0</td>\n",
       "      <td>7.071068e-01</td>\n",
       "      <td>6.123234e-17</td>\n",
       "      <td>-7.071068e-01</td>\n",
       "      <td>-1.0</td>\n",
       "      <td>-7.071068e-01</td>\n",
       "      <td>-1.836970e-16</td>\n",
       "      <td>7.071068e-01</td>\n",
       "    </tr>\n",
       "    <tr>\n",
       "      <th>2</th>\n",
       "      <td>1.0</td>\n",
       "      <td>6.123234e-17</td>\n",
       "      <td>-1.000000e+00</td>\n",
       "      <td>-1.836970e-16</td>\n",
       "      <td>1.0</td>\n",
       "      <td>3.061617e-16</td>\n",
       "      <td>-1.000000e+00</td>\n",
       "      <td>-4.286264e-16</td>\n",
       "    </tr>\n",
       "    <tr>\n",
       "      <th>3</th>\n",
       "      <td>1.0</td>\n",
       "      <td>-7.071068e-01</td>\n",
       "      <td>-1.836970e-16</td>\n",
       "      <td>7.071068e-01</td>\n",
       "      <td>-1.0</td>\n",
       "      <td>7.071068e-01</td>\n",
       "      <td>5.510911e-16</td>\n",
       "      <td>-7.071068e-01</td>\n",
       "    </tr>\n",
       "    <tr>\n",
       "      <th>4</th>\n",
       "      <td>1.0</td>\n",
       "      <td>-1.000000e+00</td>\n",
       "      <td>1.000000e+00</td>\n",
       "      <td>-1.000000e+00</td>\n",
       "      <td>1.0</td>\n",
       "      <td>-1.000000e+00</td>\n",
       "      <td>1.000000e+00</td>\n",
       "      <td>-1.000000e+00</td>\n",
       "    </tr>\n",
       "    <tr>\n",
       "      <th>5</th>\n",
       "      <td>1.0</td>\n",
       "      <td>-7.071068e-01</td>\n",
       "      <td>3.061617e-16</td>\n",
       "      <td>7.071068e-01</td>\n",
       "      <td>-1.0</td>\n",
       "      <td>7.071068e-01</td>\n",
       "      <td>-2.694842e-15</td>\n",
       "      <td>-7.071068e-01</td>\n",
       "    </tr>\n",
       "    <tr>\n",
       "      <th>6</th>\n",
       "      <td>1.0</td>\n",
       "      <td>-1.836970e-16</td>\n",
       "      <td>-1.000000e+00</td>\n",
       "      <td>5.510911e-16</td>\n",
       "      <td>1.0</td>\n",
       "      <td>-2.694842e-15</td>\n",
       "      <td>-1.000000e+00</td>\n",
       "      <td>-4.904777e-16</td>\n",
       "    </tr>\n",
       "    <tr>\n",
       "      <th>7</th>\n",
       "      <td>1.0</td>\n",
       "      <td>7.071068e-01</td>\n",
       "      <td>-4.286264e-16</td>\n",
       "      <td>-7.071068e-01</td>\n",
       "      <td>-1.0</td>\n",
       "      <td>-7.071068e-01</td>\n",
       "      <td>-4.904777e-16</td>\n",
       "      <td>7.071068e-01</td>\n",
       "    </tr>\n",
       "  </tbody>\n",
       "</table>\n",
       "</div>"
      ],
      "text/plain": [
       "     0             1             2             3    4             5  \\\n",
       "0  1.0  1.000000e+00  1.000000e+00  1.000000e+00  1.0  1.000000e+00   \n",
       "1  1.0  7.071068e-01  6.123234e-17 -7.071068e-01 -1.0 -7.071068e-01   \n",
       "2  1.0  6.123234e-17 -1.000000e+00 -1.836970e-16  1.0  3.061617e-16   \n",
       "3  1.0 -7.071068e-01 -1.836970e-16  7.071068e-01 -1.0  7.071068e-01   \n",
       "4  1.0 -1.000000e+00  1.000000e+00 -1.000000e+00  1.0 -1.000000e+00   \n",
       "5  1.0 -7.071068e-01  3.061617e-16  7.071068e-01 -1.0  7.071068e-01   \n",
       "6  1.0 -1.836970e-16 -1.000000e+00  5.510911e-16  1.0 -2.694842e-15   \n",
       "7  1.0  7.071068e-01 -4.286264e-16 -7.071068e-01 -1.0 -7.071068e-01   \n",
       "\n",
       "              6             7  \n",
       "0  1.000000e+00  1.000000e+00  \n",
       "1 -1.836970e-16  7.071068e-01  \n",
       "2 -1.000000e+00 -4.286264e-16  \n",
       "3  5.510911e-16 -7.071068e-01  \n",
       "4  1.000000e+00 -1.000000e+00  \n",
       "5 -2.694842e-15 -7.071068e-01  \n",
       "6 -1.000000e+00 -4.904777e-16  \n",
       "7 -4.904777e-16  7.071068e-01  "
      ]
     },
     "execution_count": 22,
     "metadata": {},
     "output_type": "execute_result"
    }
   ],
   "source": [
    "pd.DataFrame(r)"
   ]
  },
  {
   "cell_type": "code",
   "execution_count": null,
   "metadata": {},
   "outputs": [],
   "source": []
  },
  {
   "cell_type": "code",
   "execution_count": 224,
   "metadata": {},
   "outputs": [],
   "source": [
    "def W(k, N):\n",
    "    return np.exp(-1j*(2*np.pi/N)*k)\n",
    "\n",
    "def radix2_fft_hardcode(s, N=8):\n",
    "    # stage 1\n",
    "    \n",
    "    x0 = s[0] + s[4]\n",
    "    x4 = (s[0] - s[4]) * W(0, N)\n",
    "    \n",
    "    x1 = s[1] + s[5]\n",
    "    x5 = (s[1] - s[5]) * W(1, N)\n",
    "    \n",
    "    x2 = s[2] + s[6]\n",
    "    x6 = (s[2] - s[6]) * W(2, N)\n",
    "    \n",
    "    x3 = s[3] + s[7]\n",
    "    x7 = (s[3] - s[7]) * W(3, N)\n",
    "    print(x0, x1, x2, x3, x4, x5, x6, x7)\n",
    "    \n",
    "    \n",
    "    # stage 2.1\n",
    "    x00 = x0 + x2\n",
    "    x02 = (x0 - x2) * W(0, N/2)\n",
    "    \n",
    "    x01 = x1 + x3\n",
    "    x03 = (x1 - x3) * W(1, N/2)\n",
    "    \n",
    "    # stage 2.2\n",
    "    x10 = x4 + x6\n",
    "    x12 = (x4 - x6) * W(0, N/2)\n",
    "    \n",
    "    x11 = x5 + x7\n",
    "    x13 = (x5 - x7) * W(1, N/2)\n",
    "    \n",
    "    \n",
    "    # state 3.1\n",
    "    x000 = x00 + x01\n",
    "    x001 = (x00 - x01) * W(0, N/2/2)\n",
    "    \n",
    "    # stage 3.2\n",
    "    x002 = x02 + x03\n",
    "    x003 = (x02 - x03) * W(0, N/2/2)\n",
    "    \n",
    "    # state 3.3\n",
    "    x004 = x10 + x11\n",
    "    x005 = (x10 - x11) * W(0, N/2/2)\n",
    "    \n",
    "    # state 3.4\n",
    "    x006 = x12 + x13\n",
    "    x007 = (x12 - x13) * W(0, N/2/2)\n",
    "    \n",
    "    return [x000, x004, x002, x006, x001, x005, x003, x007]\n",
    "\n"
   ]
  },
  {
   "cell_type": "code",
   "execution_count": 225,
   "metadata": {},
   "outputs": [
    {
     "name": "stdout",
     "output_type": "stream",
     "text": [
      "0.5376636036804365 0.08659474864651462 0.09796880666431518 0.38516966581663703 (1.0992381260674762+0j) (1.2632511986980999-1.2632511986980997j) (6.711103012026774e-17-1.0960062961335963j) (0.883366964107727+0.8833669641077271j)\n",
      "0 1.1073968248079034\n",
      "1 (3.245856288873303-1.475890530723969j)\n",
      "2 (0.43969479701612135+0.2985749171701224j)\n",
      "3 (-1.0473800367383506+0.7161220615432233j)\n",
      "4 (0.16386799588160006+0j)\n",
      "5 (-1.0473800367383506-0.7161220615432238j)\n",
      "6 (0.43969479701612135-0.2985749171701224j)\n",
      "7 (3.245856288873303+1.4758905307239694j)\n"
     ]
    }
   ],
   "source": [
    "for i, o in enumerate(radix2_fft_hardcode(x)):\n",
    "    print(i, o)"
   ]
  },
  {
   "cell_type": "code",
   "execution_count": 113,
   "metadata": {},
   "outputs": [
    {
     "data": {
      "text/plain": [
       "[(-1.4085892659159542+0j),\n",
       " (-0.5029561364884098+0.6938658241456137j),\n",
       " (-1.4569420591077935+0.023467566233155025j),\n",
       " (0.27679621673838484-2.25291616914042j),\n",
       " (-1.1527959119349496+4.262696068721097e-16j),\n",
       " (0.2767962167383809+2.2529161691404216j),\n",
       " (-1.4569420591077928-0.02346756623315644j),\n",
       " (-0.5029561364884113-0.6938658241456142j)]"
      ]
     },
     "execution_count": 113,
     "metadata": {},
     "output_type": "execute_result"
    }
   ],
   "source": [
    "my_fft(x)"
   ]
  },
  {
   "cell_type": "code",
   "execution_count": 219,
   "metadata": {},
   "outputs": [],
   "source": [
    "x = np.random.uniform(-1, 1, 1024)"
   ]
  },
  {
   "cell_type": "code",
   "execution_count": 92,
   "metadata": {},
   "outputs": [
    {
     "data": {
      "text/plain": [
       "(1+8.025845262892094e-12j)"
      ]
     },
     "execution_count": 92,
     "metadata": {},
     "output_type": "execute_result"
    }
   ],
   "source": [
    "np.exp(-2*np.pi*1j*1024*2*2*2*2*2)"
   ]
  },
  {
   "cell_type": "code",
   "execution_count": 1,
   "metadata": {},
   "outputs": [
    {
     "ename": "NameError",
     "evalue": "name 'np' is not defined",
     "output_type": "error",
     "traceback": [
      "\u001b[0;31m---------------------------------------------------------------------------\u001b[0m",
      "\u001b[0;31mNameError\u001b[0m                                 Traceback (most recent call last)",
      "\u001b[0;32m<ipython-input-1-d6728ff1ffc5>\u001b[0m in \u001b[0;36m<module>\u001b[0;34m()\u001b[0m\n\u001b[1;32m      1\u001b[0m \u001b[0mN\u001b[0m \u001b[0;34m=\u001b[0m \u001b[0;36m8\u001b[0m\u001b[0;34m\u001b[0m\u001b[0m\n\u001b[0;32m----> 2\u001b[0;31m \u001b[0mt\u001b[0m \u001b[0;34m=\u001b[0m \u001b[0mnp\u001b[0m\u001b[0;34m.\u001b[0m\u001b[0marange\u001b[0m\u001b[0;34m(\u001b[0m\u001b[0mN\u001b[0m\u001b[0;34m)\u001b[0m \u001b[0;34m/\u001b[0m \u001b[0mN\u001b[0m\u001b[0;34m\u001b[0m\u001b[0m\n\u001b[0m\u001b[1;32m      3\u001b[0m \u001b[0mc\u001b[0m \u001b[0;34m=\u001b[0m \u001b[0mnp\u001b[0m\u001b[0;34m.\u001b[0m\u001b[0mexp\u001b[0m\u001b[0;34m(\u001b[0m\u001b[0;34m-\u001b[0m\u001b[0;36m2\u001b[0m\u001b[0;34m*\u001b[0m\u001b[0mnp\u001b[0m\u001b[0;34m.\u001b[0m\u001b[0mpi\u001b[0m\u001b[0;34m*\u001b[0m\u001b[0;36m1j\u001b[0m\u001b[0;34m*\u001b[0m\u001b[0;36m1\u001b[0m\u001b[0;34m*\u001b[0m\u001b[0mt\u001b[0m\u001b[0;34m)\u001b[0m\u001b[0;34m\u001b[0m\u001b[0m\n\u001b[1;32m      4\u001b[0m \u001b[0mprint\u001b[0m\u001b[0;34m(\u001b[0m\u001b[0mc\u001b[0m\u001b[0;34m)\u001b[0m\u001b[0;34m\u001b[0m\u001b[0m\n",
      "\u001b[0;31mNameError\u001b[0m: name 'np' is not defined"
     ]
    }
   ],
   "source": [
    "N = 8\n",
    "t = np.arange(N) / N \n",
    "c = np.exp(-2*np.pi*1j*1*t)\n",
    "print(c)"
   ]
  },
  {
   "cell_type": "code",
   "execution_count": 112,
   "metadata": {},
   "outputs": [],
   "source": [
    "def my_fft(x, N=None):\n",
    "    if N is None:\n",
    "        N = len(x)\n",
    "    out = []\n",
    "    t = np.arange(N) / N\n",
    "    for i in range(N):\n",
    "#         np.exp(-2*np.pi*1j*i*t)\n",
    "        binn = np.sum(x * W(i, N))\n",
    "        out.append(binn)\n",
    "    return out"
   ]
  },
  {
   "cell_type": "code",
   "execution_count": 84,
   "metadata": {},
   "outputs": [
    {
     "data": {
      "text/plain": [
       "(-0.5029561364884098+0.6938658241456137j)"
      ]
     },
     "execution_count": 84,
     "metadata": {},
     "output_type": "execute_result"
    }
   ],
   "source": [
    "np.sum(x * c)"
   ]
  },
  {
   "cell_type": "code",
   "execution_count": 85,
   "metadata": {},
   "outputs": [
    {
     "data": {
      "image/png": "[encoded data removed]",
      "text/plain": [
       "<matplotlib.figure.Figure at 0x7f5bed31a630>"
      ]
     },
     "metadata": {},
     "output_type": "display_data"
    }
   ],
   "source": [
    "plt.plot(c.real)\n",
    "plt.plot(c.imag)\n",
    "plt.show()"
   ]
  },
  {
   "cell_type": "code",
   "execution_count": null,
   "metadata": {},
   "outputs": [],
   "source": []
  }
 ],
 "metadata": {
  "kernelspec": {
   "display_name": "Python 3",
   "language": "python",
   "name": "python3"
  },
  "language_info": {
   "codemirror_mode": {
    "name": "ipython",
    "version": 3
   },
   "file_extension": ".py",
   "mimetype": "text/x-python",
   "name": "python",
   "nbconvert_exporter": "python",
   "pygments_lexer": "ipython3",
   "version": "3.6.4"
  }
 },
 "nbformat": 4,
 "nbformat_minor": 1
}
