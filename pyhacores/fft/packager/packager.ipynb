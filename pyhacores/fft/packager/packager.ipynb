{
 "cells": [
  {
   "cell_type": "code",
   "execution_count": 1,
   "metadata": {},
   "outputs": [
    {
     "data": {
      "application/javascript": [
       "$.getScript('https://kmahelona.github.io/ipython_notebook_goodies/ipython_notebook_toc.js')"
      ],
      "text/plain": [
       "<IPython.core.display.Javascript object>"
      ]
     },
     "metadata": {},
     "output_type": "display_data"
    }
   ],
   "source": [
    "%%javascript\n",
    "$.getScript('https://kmahelona.github.io/ipython_notebook_goodies/ipython_notebook_toc.js')"
   ]
  },
  {
   "cell_type": "markdown",
   "metadata": {},
   "source": [
    "<h1 id=\"tocheading\">Table of Contents</h1>\n",
    "<div id=\"toc\"></div>"
   ]
  },
  {
   "cell_type": "code",
   "execution_count": 2,
   "metadata": {},
   "outputs": [],
   "source": [
    "%load_ext autoreload\n",
    "%autoreload 2\n",
    "\n",
    "import matplotlib.pyplot as plt\n",
    "plt.rcParams['figure.figsize'] = 15, 5\n",
    "import numpy as np\n",
    "np.random.seed(0)\n",
    "from pyhacores.utils import *\n",
    "from pyha import *\n",
    "import scipy\n",
    "from scipy import signal\n",
    "\n",
    "import warnings\n",
    "warnings.filterwarnings('ignore') # because they include system path -> fails unit tests on different computer\n",
    "\n",
    "simulations = ['MODEL', 'PYHA']"
   ]
  },
  {
   "cell_type": "markdown",
   "metadata": {},
   "source": [
    "# Application"
   ]
  },
  {
   "cell_type": "markdown",
   "metadata": {},
   "source": [
    "## First stage for package streams\n",
    "In general simulating this core without follow-up cores is not very useful..."
   ]
  },
  {
   "cell_type": "code",
   "execution_count": 3,
   "metadata": {},
   "outputs": [
    {
     "name": "stdout",
     "output_type": "stream",
     "text": [
      "[0.   0.01 0.02 0.03 0.04 0.05 0.06 0.07 0.08 0.09 0.1  0.11 0.12 0.13\n",
      " 0.14 0.15]\n"
     ]
    }
   ],
   "source": [
    "input_signal = np.array(range(16)) / 100\n",
    "print(input_signal)"
   ]
  },
  {
   "cell_type": "code",
   "execution_count": 4,
   "metadata": {
    "scrolled": true
   },
   "outputs": [
    {
     "name": "stderr",
     "output_type": "stream",
     "text": [
      "INFO:sim:Converting model to hardware types ...\n",
      "INFO:sim:Enabled fast simulation (model cannot be converted to VHDL)\n",
      "INFO:sim:Running \"MODEL\" simulation...\n",
      "INFO:sim:OK!\n",
      "INFO:sim:Converting simulation inputs to hardware types...\n",
      "INFO:sim:Running \"PYHA\" simulation...\n"
     ]
    },
    {
     "name": "stdout",
     "output_type": "stream",
     "text": [
      "100%|██████████| 17/17 [00:00<00:00, 12978.37it/s]"
     ]
    },
    {
     "name": "stderr",
     "output_type": "stream",
     "text": [
      "INFO:sim:OK!\n",
      "INFO:sim:Simulations completed!\n"
     ]
    },
    {
     "name": "stdout",
     "output_type": "stream",
     "text": [
      "\n"
     ]
    }
   ],
   "source": [
    "from pyhacores.fft import Packager\n",
    "dut = Packager(packet_size=4, dtype=Sfix(0, 0, -17))\n",
    "fft_sims = simulate(dut, input_signal, simulations=simulations)"
   ]
  },
  {
   "cell_type": "code",
   "execution_count": 5,
   "metadata": {},
   "outputs": [
    {
     "data": {
      "text/plain": [
       "92.4300665481445"
      ]
     },
     "execution_count": 5,
     "metadata": {},
     "output_type": "execute_result"
    }
   ],
   "source": [
    "snr(fft_sims['MODEL'], fft_sims['PYHA'])"
   ]
  },
  {
   "cell_type": "markdown",
   "metadata": {},
   "source": [
    "# Synthesis"
   ]
  },
  {
   "cell_type": "code",
   "execution_count": 6,
   "metadata": {},
   "outputs": [
    {
     "name": "stderr",
     "output_type": "stream",
     "text": [
      "INFO:sim:Converting model to hardware types ...\n",
      "INFO:sim:Running \"MODEL\" simulation...\n",
      "INFO:sim:OK!\n",
      "INFO:sim:Converting simulation inputs to hardware types...\n",
      "INFO:sim:Running \"PYHA\" simulation...\n"
     ]
    },
    {
     "name": "stdout",
     "output_type": "stream",
     "text": [
      "100%|██████████| 17/17 [00:00<00:00, 4090.83it/s]"
     ]
    },
    {
     "name": "stderr",
     "output_type": "stream",
     "text": [
      "INFO:sim:OK!\n",
      "INFO:sim:Running \"RTL\" simulation...\n",
      "INFO:conversion:Creating top.vhd ...\n",
      "INFO:conversion:DataIndexValid to VHDL ...\n",
      "INFO:conversion:Packager to VHDL ...\n",
      "INFO:sim:Running COCOTB & GHDL simulation....\n"
     ]
    },
    {
     "name": "stdout",
     "output_type": "stream",
     "text": [
      "\n"
     ]
    },
    {
     "name": "stderr",
     "output_type": "stream",
     "text": [
      "INFO:sim:OK!\n",
      "INFO:sim:Running \"GATE\" simulation...\n",
      "INFO:conversion:Creating top.vhd ...\n",
      "INFO:conversion:DataIndexValid to VHDL ...\n",
      "INFO:conversion:Packager to VHDL ...\n",
      "INFO:sim:Running quartus map...will take time.\n",
      "INFO:sim:Analysis & Synthesis Status : Successful - Fri Aug 17 14:20:27 2018\n",
      "INFO:sim:Quartus Prime Version : 17.1.0 Build 590 10/25/2017 SJ Lite Edition\n",
      "INFO:sim:Revision Name : quartus_project\n",
      "INFO:sim:Top-level Entity Name : top\n",
      "INFO:sim:Family : Cyclone IV E\n",
      "INFO:sim:Total logic elements : 20\n",
      "INFO:sim:    Total combinational functions : 2\n",
      "INFO:sim:    Dedicated logic registers : 20\n",
      "INFO:sim:Total registers : 20\n",
      "INFO:sim:Total pins : 71\n",
      "INFO:sim:Total virtual pins : 0\n",
      "INFO:sim:Total memory bits : 0\n",
      "INFO:sim:Embedded Multiplier 9-bit elements : 0\n",
      "INFO:sim:Total PLLs : 0\n",
      "INFO:sim:Running netlist writer.\n",
      "INFO:sim:Running COCOTB & GHDL simulation....\n",
      "INFO:sim:OK!\n",
      "INFO:sim:Simulations completed!\n"
     ]
    }
   ],
   "source": [
    "dut = Packager(packet_size=4, dtype=Sfix(0, 0, -17))\n",
    "sims = simulate(dut, input_signal, simulations=['MODEL', 'PYHA', 'RTL', 'GATE'])"
   ]
  },
  {
   "cell_type": "code",
   "execution_count": 7,
   "metadata": {},
   "outputs": [
    {
     "name": "stderr",
     "output_type": "stream",
     "text": [
      "INFO:sim:sims_close(rtol=0.0001, atol=3.0517578125e-05)\n",
      "INFO:sim:Using \"MODEL\" as golden output\n",
      "INFO:sim:MODEL OK!\n",
      "INFO:sim:PYHA OK!\n",
      "INFO:sim:RTL OK!\n",
      "INFO:sim:GATE OK!\n"
     ]
    }
   ],
   "source": [
    "assert sims_close(sims)"
   ]
  },
  {
   "cell_type": "code",
   "execution_count": 8,
   "metadata": {},
   "outputs": [
    {
     "name": "stdout",
     "output_type": "stream",
     "text": [
      "Logic elements: 20\n",
      "Memory: 0\n",
      "Multipler (18bit): 0\n"
     ]
    }
   ],
   "source": [
    "lut, mem, mul = get_resource_usage()\n",
    "print(f'Logic elements: {lut}')\n",
    "print(f'Memory: {mem}')\n",
    "print(f'Multipler (18bit): {mul//2}')"
   ]
  }
 ],
 "metadata": {
  "kernelspec": {
   "display_name": "Python 3",
   "language": "python",
   "name": "python3"
  },
  "language_info": {
   "codemirror_mode": {
    "name": "ipython",
    "version": 3
   },
   "file_extension": ".py",
   "mimetype": "text/x-python",
   "name": "python",
   "nbconvert_exporter": "python",
   "pygments_lexer": "ipython3",
   "version": "3.6.6"
  }
 },
 "nbformat": 4,
 "nbformat_minor": 1
}
