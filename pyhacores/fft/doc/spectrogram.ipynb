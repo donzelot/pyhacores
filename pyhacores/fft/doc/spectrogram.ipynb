{
 "cells": [
  {
   "cell_type": "code",
   "execution_count": 1,
   "metadata": {},
   "outputs": [],
   "source": [
    "from scipy import signal\n",
    "import numpy as np\n",
    "\n",
    "import matplotlib\n",
    "matplotlib.use('nbagg')\n",
    "from pylab import rcParams\n",
    "rcParams['figure.figsize'] = 9, 4\n",
    "import matplotlib.pyplot as plt\n",
    "import scipy\n",
    "\n",
    "from scipy.fftpack import fft, ifft\n",
    "import pandas as pd\n",
    "%load_ext autoreload\n",
    "%autoreload 2\n",
    "import sys\n",
    "import copy\n",
    "\n",
    "from pyha import Hardware, simulate, sims_close, Complex, resize, hardware_sims_equal\n",
    "from pathlib import Path\n",
    "from data import load_iq\n",
    "sys.path.insert(0,'/home/gaspar/git/pyhacores/under_construction/fft/')\n",
    "from under_construction.fft.bit_reversal_fftshift import BitReversal\n",
    "from under_construction.fft.conjmult import ConjMult\n",
    "from under_construction.fft.fft_core import R2SDF\n",
    "from under_construction.fft.windower import Windower\n",
    "from under_construction.fft.avg_decimate import AvgDecimate\n",
    "from under_construction.fft.spectrogram import Spectrogram\n",
    "from under_construction.fft.bitreversal_fftshift_decimate import BitreversalFFTshiftDecimate\n",
    "from under_construction.fft.packager import Packager, DataWithIndex, unpackage, package\n",
    "\n",
    "def imshow(im):\n",
    "    from skimage.exposure import exposure\n",
    "    p2, p98 = np.percentile(im, (2, 98))\n",
    "    im = exposure.rescale_intensity(im, in_range=(p2, p98))\n",
    "\n",
    "    \n",
    "    plt.imshow(im, interpolation='nearest', aspect='auto', origin='lower')\n",
    "    plt.tight_layout()\n",
    "    plt.show()\n",
    "    \n",
    "    \n",
    "def snr(pure, noisy):\n",
    "    sig_pow = np.mean(np.abs(pure))\n",
    "    error = np.array(pure) - np.array(noisy)\n",
    "    err_pow = np.mean(np.abs(error))\n",
    "    \n",
    "    snr_db = 20*np.log10(sig_pow/err_pow)\n",
    "    return snr_db\n"
   ]
  },
  {
   "cell_type": "markdown",
   "metadata": {},
   "source": [
    "# Config"
   ]
  },
  {
   "cell_type": "code",
   "execution_count": 2,
   "metadata": {},
   "outputs": [],
   "source": [
    "fft_points = 256\n",
    "freq_axis_avg_decimation = 2\n",
    "sims = ['MODEL', 'PYHA']\n",
    "file = '/run/media/gaspar/maxtor/measurement 13.03.2018/mavic_tele/qdetector_20180313122024455464_far_10m_regular/1520936452.2426_fs=20000000.0_bw=20000000.0_fc=2431000000.0_d=0_g=033000.raw'\n",
    "orig_inp = load_iq(file)\n",
    "orig_inp = orig_inp[:len(orig_inp)//8]"
   ]
  },
  {
   "cell_type": "markdown",
   "metadata": {},
   "source": [
    "# Prepare input"
   ]
  },
  {
   "cell_type": "code",
   "execution_count": 3,
   "metadata": {},
   "outputs": [],
   "source": [
    "oo = np.array([complex(Complex(x, 0, -17, round_style='round')) for x in orig_inp])  # Quantize the inputs!"
   ]
  },
  {
   "cell_type": "code",
   "execution_count": 4,
   "metadata": {},
   "outputs": [
    {
     "name": "stdout",
     "output_type": "stream",
     "text": [
      "(0.0004140752+0.0013231505j) (0.0004119873046875+0.00131988525390625j)\n"
     ]
    }
   ],
   "source": [
    "print(orig_inp[0], oo[0])"
   ]
  },
  {
   "cell_type": "code",
   "execution_count": 5,
   "metadata": {},
   "outputs": [
    {
     "data": {
      "text/plain": [
       "48.87188083752847"
      ]
     },
     "execution_count": 5,
     "metadata": {},
     "output_type": "execute_result"
    }
   ],
   "source": [
    "snr(orig_inp, oo)"
   ]
  },
  {
   "cell_type": "code",
   "execution_count": 6,
   "metadata": {},
   "outputs": [
    {
     "data": {
      "text/plain": [
       "<IPython.core.display.Javascript object>"
      ]
     },
     "metadata": {},
     "output_type": "display_data"
    }
   ],
   "source": [
    "_, _, spectro_out = signal.spectrogram(oo, 1, nperseg=fft_points, return_onesided=False, detrend=False,\n",
    "                               noverlap=0, window='hann')\n",
    "\n",
    "# fftshift\n",
    "spectro_out = np.roll(spectro_out, fft_points//2, axis=0)\n",
    "\n",
    "# avg decimation\n",
    "x = np.split(spectro_out, len(spectro_out) // freq_axis_avg_decimation)\n",
    "golden_output = np.average(x, axis=1)\n",
    "\n",
    "imshow(golden_output)"
   ]
  }
 ],
 "metadata": {
  "kernelspec": {
   "display_name": "Python 3",
   "language": "python",
   "name": "python3"
  },
  "language_info": {
   "codemirror_mode": {
    "name": "ipython",
    "version": 3
   },
   "file_extension": ".py",
   "mimetype": "text/x-python",
   "name": "python",
   "nbconvert_exporter": "python",
   "pygments_lexer": "ipython3",
   "version": "3.6.6"
  }
 },
 "nbformat": 4,
 "nbformat_minor": 1
}
