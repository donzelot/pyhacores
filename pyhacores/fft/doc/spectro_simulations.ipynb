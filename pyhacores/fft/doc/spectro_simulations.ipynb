{
 "cells": [
  {
   "cell_type": "code",
   "execution_count": 6,
   "metadata": {},
   "outputs": [
    {
     "name": "stdout",
     "output_type": "stream",
     "text": [
      "The autoreload extension is already loaded. To reload it, use:\n",
      "  %reload_ext autoreload\n"
     ]
    }
   ],
   "source": [
    "from scipy import signal\n",
    "import numpy as np\n",
    "from scipy.fftpack import fft, ifft\n",
    "import pandas as pd\n",
    "\n",
    "import matplotlib\n",
    "matplotlib.use('nbagg')\n",
    "from pylab import rcParams\n",
    "rcParams['figure.figsize'] = 9, 4\n",
    "import matplotlib.pyplot as plt\n",
    "import scipy\n",
    "\n",
    "%load_ext autoreload\n",
    "%autoreload 2\n",
    "import sys\n",
    "import copy\n",
    "\n",
    "from pyha import Hardware, simulate, sims_close, Complex, resize, hardware_sims_equal\n",
    "from pathlib import Path\n",
    "from data import load_iq\n",
    "\n",
    "def imshow(im):\n",
    "    from skimage.exposure import exposure\n",
    "    p2, p98 = np.percentile(im, (2, 98))\n",
    "    im = exposure.rescale_intensity(im, in_range=(p2, p98))\n",
    "\n",
    "    \n",
    "    plt.imshow(im, interpolation='nearest', aspect='auto', origin='lower')\n",
    "    plt.tight_layout()\n",
    "    plt.show()\n",
    "    \n",
    "def awgn(iq, scale):\n",
    "    r =  iq\n",
    "    # r = np.copy(iq)\n",
    "    r.real += np.random.normal(scale=scale, size=iq.shape)\n",
    "    r.imag += np.random.normal(scale=scale, size=iq.shape)\n",
    "    return r\n",
    "    \n",
    "    \n",
    "def snr(pure, noisy):\n",
    "    sig_pow = np.nanmean(np.abs(pure))\n",
    "    error = np.array(pure) - np.array(noisy)\n",
    "    err_pow = np.nanmean(np.abs(error))\n",
    "    \n",
    "    snr_db = 20*np.log10(sig_pow/err_pow)\n",
    "    return snr_db\n",
    "\n",
    "from under_construction.fft.bit_reversal_fftshift import bit_reversed_indexes\n",
    "from under_construction.fft.fft_core import R2SDF\n",
    "from under_construction.fft.packager import DataWithIndex, unpackage, package\n",
    "\n",
    "def show_freqz(taps):\n",
    "    w, h = scipy.signal.freqz(taps)\n",
    "    fig, ax1 = plt.subplots(1, 1)\n",
    "    plt.title('Digital filter frequency response')\n",
    "    ax1.plot(w / np.pi, 20 * np.log10(abs(h)), 'b')\n",
    "    ax1.set_ylabel('Amplitude [dB]', color='b')\n",
    "    ax1.set_xlabel('Frequency')\n",
    "    plt.grid()\n",
    "    ax2 = ax1.twinx()\n",
    "    angles = np.unwrap(np.angle(h))\n",
    "    ax2.plot(w / np.pi, angles, 'g')\n",
    "    ax2.set_ylabel('Angle (radians)', color='g')\n",
    "    ax2.axis('tight')\n",
    "    plt.tight_layout()\n",
    "    plt.show()\n",
    "    \n",
    "def show_plot():\n",
    "    plt.tight_layout()\n",
    "    plt.grid()\n",
    "    if plt.gca().get_legend_handles_labels() != ([], []):\n",
    "        plt.legend()\n",
    "    plt.show()\n",
    "    \n",
    "def bit_reverse(x, n_bits):\n",
    "    return int(np.binary_repr(x, n_bits)[::-1], 2)\n",
    "\n",
    "def bit_reversed_indexes(N):\n",
    "    return [bit_reverse(i, int(np.log2(N))) for i in range(N)]\n",
    "\n",
    "def postprocess(x):\n",
    "    pyh = x\n",
    "    pyh = pyh[bit_reversed_indexes(fft_size)]\n",
    "    pyh = np.fft.fftshift(pyh)\n",
    "    pyh = [complex(x) for x in pyh]\n",
    "#     pyh = np.abs(pyh)\n",
    "    pyh = pyh * np.conjugate(pyh)\n",
    "#     pyh = pyh / pyh.max()\n",
    "    return pyh.real\n",
    "\n",
    "    a = 20 * np.log10(pyh \n",
    "#                       + 0.0000000000000000000001\n",
    "                     ) # add small number to avoid div by 0\n",
    "    return a\n",
    "\n",
    "\n",
    "from pyha import Hardware, simulate, sims_close, Complex, Sfix, scalb\n",
    "\n",
    "results = {}\n",
    "import pickle"
   ]
  },
  {
   "cell_type": "code",
   "execution_count": 7,
   "metadata": {},
   "outputs": [],
   "source": [
    "# SNR: 27.808717953912666 (full prec)\n",
    "# SNR: 27.934033216930448 (10 twid, 8 window)\n",
    "# SNR: 27.42276405103311 (9 twid, 8 window)"
   ]
  },
  {
   "cell_type": "code",
   "execution_count": 30,
   "metadata": {},
   "outputs": [],
   "source": [
    "with open('/home/gaspar/Documents/low_power_ph3.raw_spectro_TST.pickle', 'rb') as f:\n",
    "    # The protocol version used is detected automatically, so we do not\n",
    "    # have to specify it.\n",
    "    data = pickle.load(f)"
   ]
  },
  {
   "cell_type": "code",
   "execution_count": 31,
   "metadata": {},
   "outputs": [
    {
     "name": "stdout",
     "output_type": "stream",
     "text": [
      "256\n",
      "256\n",
      "256\n",
      "256\n",
      "256\n",
      "256\n",
      "256\n",
      "256\n",
      "256\n",
      "256\n",
      "256\n",
      "256\n",
      "256\n",
      "256\n",
      "256\n",
      "256\n",
      "256\n",
      "256\n",
      "256\n",
      "256\n",
      "256\n",
      "256\n",
      "256\n",
      "256\n",
      "256\n",
      "256\n",
      "256\n",
      "256\n",
      "256\n",
      "256\n",
      "256\n",
      "256\n",
      "256\n",
      "256\n",
      "256\n",
      "256\n",
      "256\n",
      "256\n",
      "256\n",
      "256\n",
      "256\n",
      "256\n",
      "256\n",
      "256\n",
      "256\n",
      "256\n",
      "256\n",
      "256\n",
      "256\n",
      "256\n",
      "256\n",
      "256\n",
      "256\n",
      "256\n",
      "256\n",
      "256\n",
      "256\n",
      "256\n",
      "256\n",
      "256\n",
      "256\n",
      "88\n"
     ]
    }
   ],
   "source": [
    "for x in np.array(data['PYHA']):\n",
    "    print(len(x))\n",
    "    \n",
    "    "
   ]
  },
  {
   "cell_type": "code",
   "execution_count": 32,
   "metadata": {},
   "outputs": [
    {
     "data": {
      "text/plain": [
       "(61, 256)"
      ]
     },
     "execution_count": 32,
     "metadata": {},
     "output_type": "execute_result"
    }
   ],
   "source": [
    "p = np.array(data['PYHA'][:-1])\n",
    "p.shape"
   ]
  },
  {
   "cell_type": "code",
   "execution_count": 33,
   "metadata": {},
   "outputs": [
    {
     "data": {
      "text/plain": [
       "<IPython.core.display.Javascript object>"
      ]
     },
     "metadata": {},
     "output_type": "display_data"
    }
   ],
   "source": [
    "imshow(p.T)"
   ]
  }
 ],
 "metadata": {
  "kernelspec": {
   "display_name": "Python 3",
   "language": "python",
   "name": "python3"
  },
  "language_info": {
   "codemirror_mode": {
    "name": "ipython",
    "version": 3
   },
   "file_extension": ".py",
   "mimetype": "text/x-python",
   "name": "python",
   "nbconvert_exporter": "python",
   "pygments_lexer": "ipython3",
   "version": "3.6.6"
  }
 },
 "nbformat": 4,
 "nbformat_minor": 1
}
