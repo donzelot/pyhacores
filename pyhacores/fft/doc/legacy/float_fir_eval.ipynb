{
 "cells": [
  {
   "cell_type": "code",
   "execution_count": 1,
   "metadata": {},
   "outputs": [],
   "source": [
    "from scipy import signal\n",
    "import numpy as np\n",
    "from scipy.fftpack import fft, ifft\n",
    "import pandas as pd\n",
    "\n",
    "import matplotlib\n",
    "matplotlib.use('nbagg')\n",
    "from pylab import rcParams\n",
    "rcParams['figure.figsize'] = 9, 4\n",
    "import matplotlib.pyplot as plt\n",
    "import scipy\n",
    "\n",
    "%load_ext autoreload\n",
    "%autoreload 2\n",
    "import sys\n",
    "import copy\n",
    "\n",
    "from pyha import Hardware, simulate, sims_close, Complex, resize, hardware_sims_equal\n",
    "from pathlib import Path\n",
    "from data import load_iq\n",
    "\n",
    "def imshow(im):\n",
    "    from skimage.exposure import exposure\n",
    "    p2, p98 = np.percentile(im, (2, 98))\n",
    "    im = exposure.rescale_intensity(im, in_range=(p2, p98))\n",
    "\n",
    "    \n",
    "    plt.imshow(im, interpolation='nearest', aspect='auto', origin='lower')\n",
    "    plt.tight_layout()\n",
    "    plt.show()\n",
    "    \n",
    "    \n",
    "def snr(pure, noisy):\n",
    "    sig_pow = np.mean(np.abs(pure))\n",
    "    error = np.array(pure) - np.array(noisy)\n",
    "    err_pow = np.mean(np.abs(error))\n",
    "    \n",
    "    snr_db = 20*np.log10(sig_pow/err_pow)\n",
    "    return snr_db\n",
    "\n",
    "from under_construction.fft.bit_reversal_fftshift import bit_reversed_indexes\n",
    "from under_construction.fft.fft_core import R2SDFSFIX, R2SDF\n",
    "from under_construction.fft.packager import DataWithIndex, unpackage, package\n",
    "\n",
    "def show_freqz(taps):\n",
    "    w, h = scipy.signal.freqz(taps)\n",
    "    fig, ax1 = plt.subplots(1, 1)\n",
    "    plt.title('Digital filter frequency response')\n",
    "    ax1.plot(w / np.pi, 20 * np.log10(abs(h)), 'b')\n",
    "    ax1.set_ylabel('Amplitude [dB]', color='b')\n",
    "    ax1.set_xlabel('Frequency')\n",
    "    plt.grid()\n",
    "    ax2 = ax1.twinx()\n",
    "    angles = np.unwrap(np.angle(h))\n",
    "    ax2.plot(w / np.pi, angles, 'g')\n",
    "    ax2.set_ylabel('Angle (radians)', color='g')\n",
    "    ax2.axis('tight')\n",
    "    plt.tight_layout()\n",
    "    plt.show()\n",
    "    \n",
    "def show_plot():\n",
    "    plt.tight_layout()\n",
    "    plt.grid()\n",
    "    if plt.gca().get_legend_handles_labels() != ([], []):\n",
    "        plt.legend()\n",
    "    plt.show()\n",
    "    \n",
    "def bit_reverse(x, n_bits):\n",
    "    return int(np.binary_repr(x, n_bits)[::-1], 2)\n",
    "\n",
    "def bit_reversed_indexes(N):\n",
    "    return [bit_reverse(i, int(np.log2(N))) for i in range(N)]\n",
    "\n",
    "from pyha import Hardware, simulate, sims_close, Complex, Sfix\n",
    "from pyha.common.float import *\n",
    "# Float.use_float16 = True\n",
    "# Float.use_float16 = False\n",
    "\n",
    "from mpmath import mp \n",
    "results = {}"
   ]
  },
  {
   "cell_type": "markdown",
   "metadata": {},
   "source": [
    "# FIR tests"
   ]
  },
  {
   "cell_type": "code",
   "execution_count": null,
   "metadata": {},
   "outputs": [],
   "source": [
    "class FIRFloat(Hardware):\n",
    "    def __init__(self, taps):\n",
    "        self.DELAY = 2\n",
    "\n",
    "        self.TAPS = [Float(x) for x in np.array(taps).tolist()]\n",
    "#         self.TAPS = np.array(taps).tolist()\n",
    "        self.TAPS_ORIG = taps\n",
    "\n",
    "        # registers\n",
    "        self.acc = [Float()] * len(taps)\n",
    "        self.mul = [Float()] * len(taps)\n",
    "        # self.out = Float()\n",
    "\n",
    "    def main(self, x):\n",
    "        \"\"\" Transposed FIR structure \"\"\"\n",
    "        self.acc[0] = x * self.TAPS[-1]\n",
    "        for i in range(1, len(self.acc)):\n",
    "            self.mul[i] = x * self.TAPS[len(self.TAPS) - 1 - i]\n",
    "            self.acc[i] = self.acc[i - 1] + self.mul[i]\n",
    "\n",
    "        return self.acc[-1]\n",
    "\n",
    "    def model_main(self, x):\n",
    "        return signal.lfilter(self.TAPS_ORIG, [1.0], x)"
   ]
  },
  {
   "cell_type": "code",
   "execution_count": null,
   "metadata": {},
   "outputs": [],
   "source": [
    "np.random.seed(0)\n",
    "taps = signal.remez(128, [0, 0.1, 0.2, 0.5], [1, 0])\n",
    "inp = np.random.uniform(-1, 1, 1024)"
   ]
  },
  {
   "cell_type": "code",
   "execution_count": null,
   "metadata": {},
   "outputs": [],
   "source": [
    "Float.radix = 32\n",
    "Float.default_exponent_bits = 3\n",
    "Float.default_fractional_bits = 15\n",
    "Float.use_float16 = False\n",
    "dut = FIRFloat(taps)\n",
    "sims = simulate(dut, inp, input_types=[Float()], simulations=['MODEL', 'PYHA'])\n",
    "results['Float64'] = np.array([float(x) for x in sims['MODEL']])\n",
    "results['Radix32'] = np.array([float(x) for x in sims['PYHA']])\n",
    "\n",
    "Float.radix = 16\n",
    "Float.default_exponent_bits = 4\n",
    "Float.default_fractional_bits = 14\n",
    "Float.use_float16 = False\n",
    "dut = FIRFloat(taps)\n",
    "sims = simulate(dut, inp, input_types=[Float()], simulations=['PYHA'])\n",
    "results['Radix16'] = np.array([float(x) for x in sims['PYHA']])\n",
    "\n",
    "print('Running float16')\n",
    "Float.use_float16 = True\n",
    "Float.radix = 16\n",
    "Float.default_exponent_bits = 1\n",
    "Float.default_fractional_bits = 1\n",
    "dut = FIRFloat(taps)\n",
    "sims = simulate(dut, inp, input_types=[Float()], simulations=['PYHA'])\n",
    "results['Float16'] = np.array([float(x) for x in sims['PYHA']])\n"
   ]
  },
  {
   "cell_type": "code",
   "execution_count": null,
   "metadata": {},
   "outputs": [],
   "source": [
    "for key, val in results.items():\n",
    "    plt.magnitude_spectrum(val, scale='dB', label=key)\n",
    "plt.legend()\n",
    "plt.grid()\n",
    "plt.show()\n",
    "\n",
    "for key, val in results.items():\n",
    "    plt.plot(val, label=key)\n",
    "plt.legend()\n",
    "plt.grid()\n",
    "plt.show()"
   ]
  },
  {
   "cell_type": "code",
   "execution_count": null,
   "metadata": {},
   "outputs": [],
   "source": [
    "for key, val in results.items():\n",
    "    plt.plot(results['Float64'] - val, label=key)\n",
    "plt.legend()\n",
    "plt.grid()\n",
    "plt.show()\n",
    "\n",
    "for key, val in results.items():\n",
    "    print(f'{key} SNR: {snr(results[\"Float64\"], val)} dB')\n",
    "#     plt.plot(results['Float64'] - val, label=key)"
   ]
  },
  {
   "cell_type": "code",
   "execution_count": null,
   "metadata": {},
   "outputs": [],
   "source": [
    "128 more input\n",
    "58.958953403445484 - float16\n",
    "61.62623593672434 - R16"
   ]
  },
  {
   "cell_type": "code",
   "execution_count": null,
   "metadata": {},
   "outputs": [],
   "source": [
    "128 tap\n",
    "58.94898493380129 - float16\n",
    "62.63310859634656 - R16\n",
    "diff = 3.684123663"
   ]
  },
  {
   "cell_type": "code",
   "execution_count": null,
   "metadata": {},
   "outputs": [],
   "source": [
    "64 tap\n",
    "60.36905532922837 - float16\n",
    "64.52083838567539 - R16\n",
    "diff = 4.151783056"
   ]
  },
  {
   "cell_type": "code",
   "execution_count": null,
   "metadata": {},
   "outputs": [],
   "source": [
    "69.83881625316633 - round()\n",
    "64.19860087442991 - int()\n",
    "63.47426287423282 - floor/ceil() ie always away from 0\n",
    "47.395264674165475 - floor()\n",
    "\n",
    "58.8762989679605 - int() R16\n",
    "63.501908738503055 - R64"
   ]
  }
 ],
 "metadata": {
  "kernelspec": {
   "display_name": "Python 3",
   "language": "python",
   "name": "python3"
  },
  "language_info": {
   "codemirror_mode": {
    "name": "ipython",
    "version": 3
   },
   "file_extension": ".py",
   "mimetype": "text/x-python",
   "name": "python",
   "nbconvert_exporter": "python",
   "pygments_lexer": "ipython3",
   "version": "3.6.5"
  }
 },
 "nbformat": 4,
 "nbformat_minor": 1
}
