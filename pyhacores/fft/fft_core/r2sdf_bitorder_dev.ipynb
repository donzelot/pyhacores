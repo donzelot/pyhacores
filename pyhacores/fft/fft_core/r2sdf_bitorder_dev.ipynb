{
 "cells": [
  {
   "cell_type": "code",
   "execution_count": 1,
   "metadata": {},
   "outputs": [],
   "source": [
    "import numpy as np"
   ]
  },
  {
   "cell_type": "code",
   "execution_count": 2,
   "metadata": {},
   "outputs": [],
   "source": [
    "def W(k, N, inverse=False):\n",
    "    \"\"\" e^-j*2*PI*k*n/N, argument k = k * n \"\"\"\n",
    "    r = np.exp(-1j * (2 * np.pi / N) * k)\n",
    "    if inverse:\n",
    "        return np.conjugate(r)\n",
    "    return r"
   ]
  },
  {
   "cell_type": "code",
   "execution_count": 3,
   "metadata": {},
   "outputs": [
    {
     "name": "stdout",
     "output_type": "stream",
     "text": [
      "[ 0.3+0.3j -0.1-0.1j]\n",
      "[ 0.3+0.3j -0.1-0.1j]\n"
     ]
    }
   ],
   "source": [
    "def my_fft(inp, fft_size):\n",
    "    out = np.array([0. + 0.j] * fft_size)\n",
    "    out[0] = inp[0] + inp[1]\n",
    "    out[1] = inp[0] - inp[1] * W(0, fft_size)\n",
    "    return out\n",
    "\n",
    "fft_size = 2\n",
    "input_signal = [0.1 + 0.1j, 0.2 + 0.2j]\n",
    "\n",
    "print(my_fft(input_signal, fft_size))\n",
    "print(np.fft.fft(input_signal, fft_size))\n"
   ]
  },
  {
   "cell_type": "code",
   "execution_count": 4,
   "metadata": {},
   "outputs": [],
   "source": [
    "%load_ext autoreload\n",
    "%autoreload 2\n",
    "\n",
    "import matplotlib.pyplot as plt\n",
    "plt.rcParams['figure.figsize'] = 15, 5\n",
    "import numpy as np\n",
    "np.random.seed(0)\n",
    "from pyhacores.utils import *\n",
    "from pyha import *\n",
    "import scipy\n",
    "from scipy import signal\n",
    "\n",
    "import warnings\n",
    "warnings.filterwarnings('ignore') # because they include system path -> fails unit tests on different computer\n",
    "\n",
    "simulations = ['MODEL', 'PYHA']"
   ]
  },
  {
   "cell_type": "code",
   "execution_count": 5,
   "metadata": {},
   "outputs": [
    {
     "name": "stdout",
     "output_type": "stream",
     "text": [
      "[0.1+0.1j 0.2+0.2j 0.3+0.3j 0.4+0.4j]\n",
      "[0.1+0.1j 0.3+0.3j 0.2+0.2j 0.4+0.4j]\n"
     ]
    }
   ],
   "source": [
    "from pyhacores.fft import R2SDF\n",
    "from pyhacores.fft.util import *\n",
    "from pyhacores.fft.packager import DataWithIndex, Packager, unpackage, package\n",
    "from scipy.fftpack import fft, fftshift\n",
    "\n",
    "fft_size = 4\n",
    "input_signal = np.array([0.1 + 0.1j, 0.2 + 0.2j, 0.3 + 0.3j, 0.4 + 0.4j])\n",
    "bitrev_input_signal = toggle_bit_reverse(input_signal, fft_size)\n",
    "print(input_signal)\n",
    "print(bitrev_input_signal)"
   ]
  },
  {
   "cell_type": "code",
   "execution_count": 6,
   "metadata": {},
   "outputs": [
    {
     "name": "stdout",
     "output_type": "stream",
     "text": [
      "[ 2.5000000e-01+2.5000000e-01j -1.0000000e-01+6.9388939e-18j\n",
      " -5.0000000e-02-5.0000000e-02j  6.9388939e-18-1.0000000e-01j]\n"
     ]
    }
   ],
   "source": [
    "print(np.fft.fft(input_signal, fft_size) / fft_size) "
   ]
  },
  {
   "cell_type": "code",
   "execution_count": 10,
   "metadata": {
    "scrolled": true
   },
   "outputs": [
    {
     "name": "stderr",
     "output_type": "stream",
     "text": [
      "INFO:sim:Converting model to hardware types ...\n",
      "INFO:sim:Running \"MODEL\" simulation...\n",
      "INFO:sim:OK!\n",
      "INFO:sim:Converting simulation inputs to hardware types...\n",
      "INFO:sim:Running \"PYHA\" simulation...\n"
     ]
    },
    {
     "name": "stdout",
     "output_type": "stream",
     "text": [
      "natural\n",
      "100%|██████████| 14/14 [00:00<00:00, 1747.00it/s]"
     ]
    },
    {
     "name": "stderr",
     "output_type": "stream",
     "text": [
      "INFO:sim:OK!\n",
      "INFO:sim:Simulations completed!\n",
      "INFO:sim:Converting model to hardware types ...\n",
      "INFO:sim:Running \"MODEL\" simulation...\n",
      "INFO:sim:OK!\n",
      "INFO:sim:Converting simulation inputs to hardware types...\n",
      "INFO:sim:Running \"PYHA\" simulation...\n"
     ]
    },
    {
     "name": "stdout",
     "output_type": "stream",
     "text": [
      "\n",
      "rev\n",
      "100%|██████████| 14/14 [00:00<00:00, 1559.30it/s]"
     ]
    },
    {
     "name": "stderr",
     "output_type": "stream",
     "text": [
      "INFO:sim:OK!\n",
      "INFO:sim:Simulations completed!\n"
     ]
    },
    {
     "name": "stdout",
     "output_type": "stream",
     "text": [
      "\n"
     ]
    }
   ],
   "source": [
    "with Sfix._float_mode:\n",
    "    dut = R2SDF(fft_size, twiddle_bits=18, input_ordering='natural')\n",
    "    norm_sims = simulate(dut, input_signal, output_callback=unpackage, input_callback=package, simulations=simulations)\n",
    "    \n",
    "    dut = R2SDF(fft_size, twiddle_bits=18, input_ordering='bitreversed')\n",
    "    rev_sims = simulate(dut, bitrev_input_signal, output_callback=unpackage, input_callback=package, simulations=simulations)"
   ]
  },
  {
   "cell_type": "code",
   "execution_count": 11,
   "metadata": {},
   "outputs": [
    {
     "name": "stdout",
     "output_type": "stream",
     "text": [
      "[[(0.25+0.25j), (-0.05000000000000002-0.05000000000000002j), (-0.1+6.938893903907228e-18j), (6.938893903907228e-18-0.1j)]]\n",
      "[[(0.25+0.25j), (-0.1+6.938893903907228e-18j), (-0.05000000000000002-0.05000000000000002j), (6.938893903907228e-18-0.1j)]]\n",
      "[[(0.25+0.25j), (0.049999999999999996+0.049999999999999996j), (-0.05000000000000002-0.05000000000000002j), (-0.1+6.938893903907228e-18j)]]\n"
     ]
    }
   ],
   "source": [
    "print(norm_sims['MODEL'])\n",
    "print(rev_sims['MODEL'])\n",
    "print(rev_sims['PYHA'])"
   ]
  },
  {
   "cell_type": "code",
   "execution_count": null,
   "metadata": {},
   "outputs": [],
   "source": [
    "snr(np.array(norm_sims['MODEL']), norm_sims['PYHA'])"
   ]
  },
  {
   "cell_type": "code",
   "execution_count": null,
   "metadata": {},
   "outputs": [],
   "source": [
    "snr(np.array(rev_sims['MODEL']), rev_sims['PYHA'])"
   ]
  },
  {
   "cell_type": "code",
   "execution_count": null,
   "metadata": {},
   "outputs": [],
   "source": [
    "print(np.array(norm_sims['MODEL']))\n",
    "print(np.array(norm_sims['PYHA']))\n",
    "print(np.array(rev_sims['PYHA']))"
   ]
  },
  {
   "cell_type": "code",
   "execution_count": null,
   "metadata": {},
   "outputs": [],
   "source": [
    "snr(np.array(fft_sims['MODEL']), fft_sims['PYHA'])"
   ]
  },
  {
   "cell_type": "code",
   "execution_count": null,
   "metadata": {},
   "outputs": [],
   "source": [
    "rev_input = toggle_bit_reverse(input_signal, "
   ]
  },
  {
   "cell_type": "code",
   "execution_count": null,
   "metadata": {},
   "outputs": [],
   "source": [
    "with Sfix._float_mode:\n",
    "    dut = R2SDF(fft_size, twiddle_bits=18, input_ordering='bitreversed')\n",
    "    fft_sims = simulate(dut, rev_input, output_callback=unpackage, input_callback=package, simulations=simulations)"
   ]
  },
  {
   "cell_type": "code",
   "execution_count": null,
   "metadata": {},
   "outputs": [],
   "source": [
    "snr(np.array(fft_sims['MODEL']), fft_sims['PYHA'])"
   ]
  },
  {
   "cell_type": "code",
   "execution_count": null,
   "metadata": {},
   "outputs": [],
   "source": [
    "dut = R2SDF(fft_size, twiddle_bits=18, inverse=True)\n",
    "sims = simulate(dut, np.array(fft_sims['PYHA']).flatten(), output_callback=unpackage, input_callback=package, simulations=simulations)\n"
   ]
  },
  {
   "cell_type": "code",
   "execution_count": null,
   "metadata": {},
   "outputs": [],
   "source": [
    "snr(np.array(sims['MODEL']), sims['PYHA'])"
   ]
  },
  {
   "cell_type": "code",
   "execution_count": null,
   "metadata": {},
   "outputs": [],
   "source": [
    "plt.title('Frequency domain')\n",
    "# for key, value in sims.items():\n",
    "# plt.plot(np.array(sims['MODEL']).flatten())\n",
    "plt.plot(np.array(sims['PYHA']).flatten())\n",
    "plt.plot(input_signal)\n",
    "\n",
    "plt.ylabel('Amplitude [dB]')\n",
    "plt.xlabel('Frequency')\n",
    "# plt.ylim([-120, 1])\n",
    "show_plot()"
   ]
  },
  {
   "cell_type": "markdown",
   "metadata": {},
   "source": [
    "## Hanning"
   ]
  },
  {
   "cell_type": "code",
   "execution_count": null,
   "metadata": {
    "scrolled": true
   },
   "outputs": [],
   "source": [
    "dut = Windower(N, window='hanning', coefficient_bits=9)\n",
    "sims = simulate(dut, input_signal, output_callback=unpackage, input_callback=package, simulations=simulations)"
   ]
  },
  {
   "cell_type": "code",
   "execution_count": null,
   "metadata": {
    "scrolled": true
   },
   "outputs": [],
   "source": [
    "plt.title('Frequency domain')\n",
    "for key, value in sims.items():\n",
    "    plt.plot(*make_fft(value[0]))\n",
    "\n",
    "plt.ylabel('Amplitude [dB]')\n",
    "plt.xlabel('Frequency')\n",
    "plt.ylim([-120, 1])\n",
    "show_plot()"
   ]
  },
  {
   "cell_type": "markdown",
   "metadata": {},
   "source": [
    "## Hamming"
   ]
  },
  {
   "cell_type": "code",
   "execution_count": null,
   "metadata": {
    "scrolled": true
   },
   "outputs": [],
   "source": [
    "dut = Windower(N, window='hamming', coefficient_bits=9)\n",
    "sims = simulate(dut, input_signal, output_callback=unpackage, input_callback=package, simulations=simulations)"
   ]
  },
  {
   "cell_type": "code",
   "execution_count": null,
   "metadata": {
    "scrolled": true
   },
   "outputs": [],
   "source": [
    "plt.title('Frequency domain')\n",
    "for key, value in sims.items():\n",
    "    plt.plot(*make_fft(value[0]))\n",
    "\n",
    "plt.ylabel('Amplitude [dB]')\n",
    "plt.xlabel('Frequency')\n",
    "plt.ylim([-120, 1])\n",
    "show_plot()"
   ]
  },
  {
   "cell_type": "markdown",
   "metadata": {},
   "source": [
    "# Limitations"
   ]
  },
  {
   "cell_type": "markdown",
   "metadata": {},
   "source": [
    "## Fixed-point\n",
    "Expects standard FPGA Fixed point format i.e 18 bits (incl. sign) and scaled to -1...1 range."
   ]
  },
  {
   "cell_type": "code",
   "execution_count": null,
   "metadata": {},
   "outputs": [],
   "source": [
    "print(f'Minimum number representabe: {2**-17}')"
   ]
  },
  {
   "cell_type": "markdown",
   "metadata": {},
   "source": [
    "## Coefficients are stored in LUTs (as constants)\n",
    "Storing 18bit coefficnets for large FFT can take huge amounts of LUTS. I recommend using bitwidth of ~8, then synthsis tool can compress most of them."
   ]
  },
  {
   "cell_type": "markdown",
   "metadata": {},
   "source": [
    "## FFT outputs are bitreversed, IFFT inputs expected to be bitreversed"
   ]
  },
  {
   "cell_type": "markdown",
   "metadata": {},
   "source": [
    "## Scaling is different from numpy\n",
    "Numpy does not scale the FFT and scales IFFT with 1/n. This core works in oppsite way i.e. FFT is scaled with 1/n and IFFT has no scaling."
   ]
  },
  {
   "cell_type": "markdown",
   "metadata": {},
   "source": [
    "# Synthesis\n",
    "Resource usage depends heavily on filter taps. For example, 64 tap halfband filter needs only 16 multipliers (18bit). Complex signal needs 2 filters, so in total we could expect 32 multipliers (18bit)."
   ]
  },
  {
   "cell_type": "code",
   "execution_count": null,
   "metadata": {},
   "outputs": [],
   "source": [
    "# NBVAL_IGNORE_OUTPUT\n",
    "c = convertToVHDL(dut, '/tmp/pyha_output')\n",
    "_ = c.make_quartus_netlist()"
   ]
  },
  {
   "cell_type": "code",
   "execution_count": null,
   "metadata": {},
   "outputs": [],
   "source": [
    "print(f'Logic elements: {c.last_logic_elements}')\n",
    "print(f'Memory: {c.last_memory_bits}')\n",
    "print(f'Multipler (18bit): {c.last_multiplier//2}')"
   ]
  }
 ],
 "metadata": {
  "kernelspec": {
   "display_name": "Python 3",
   "language": "python",
   "name": "python3"
  },
  "language_info": {
   "codemirror_mode": {
    "name": "ipython",
    "version": 3
   },
   "file_extension": ".py",
   "mimetype": "text/x-python",
   "name": "python",
   "nbconvert_exporter": "python",
   "pygments_lexer": "ipython3",
   "version": "3.6.6"
  }
 },
 "nbformat": 4,
 "nbformat_minor": 1
}
